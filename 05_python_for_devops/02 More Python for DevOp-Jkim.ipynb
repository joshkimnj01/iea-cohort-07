{
 "cells": [
  {
   "cell_type": "markdown",
   "metadata": {},
   "source": [
    "# More Python for DevOps"
   ]
  },
  {
   "cell_type": "markdown",
   "metadata": {},
   "source": [
    "## Topics\n",
    "* [More String Methods](#More-String-Methods)\n",
    "* [More Lists](#More-Lists)\n",
    "    * [List Comprehensions](#List-Comprehensions)\n",
    "* [More Dictionaries](#More-Dictionaries)\n",
    "    * [Dict Comprehension](#Dict-Comprehension)\n",
    "* [More File I/O](#More-File-I/O)\n",
    "* [More Functions](#More-Functions)\n",
    "    * [Positional Arguments](#Functions:-positional-arguments)\n",
    "    * [Keyword Arguments](#Functions:-keyword-arguments)\n",
    "    * [Default Arguments](#Functions:-default-arguments)\n",
    "* [Error Handling with Exceptions](#Error-Handling-with-Exceptions)\n",
    "* [Command Line Arguments](#Command-Line-Arguments)\n",
    "* [Modules](#Modules)\n",
    "* [Classes](#Object-Oriented-Programming/Classes)"
   ]
  },
  {
   "cell_type": "markdown",
   "metadata": {
    "slideshow": {
     "slide_type": "subslide"
    }
   },
   "source": [
    "## More String Methods"
   ]
  },
  {
   "cell_type": "code",
   "execution_count": 1,
   "metadata": {},
   "outputs": [],
   "source": [
    "poem = '''TWO roads diverged in a yellow wood,\n",
    "And sorry I could not travel both\n",
    "And be one traveler, long I stood\n",
    "And looked down one as far as I could\n",
    "To where it bent in the undergrowth;\n",
    "\n",
    "Then took the other, as just as fair,\n",
    "And having perhaps the better claim,\n",
    "Because it was grassy and wanted wear;\n",
    "Though as for that the passing there\n",
    "Had worn them really about the same,\n",
    "\n",
    "And both that morning equally lay\n",
    "In leaves no step had trodden black.\n",
    "Oh, I kept the first for another day!\n",
    "Yet knowing how way leads on to way,\n",
    "I doubted if I should ever come back.\n",
    "\n",
    "I shall be telling this with a sigh\n",
    "Somewhere ages and ages hence:\n",
    "Two roads diverged in a wood, and I—\n",
    "I took the one less traveled by,\n",
    "And that has made all the difference.'''"
   ]
  },
  {
   "cell_type": "code",
   "execution_count": 2,
   "metadata": {},
   "outputs": [
    {
     "data": {
      "text/plain": [
       "729"
      ]
     },
     "execution_count": 2,
     "metadata": {},
     "output_type": "execute_result"
    }
   ],
   "source": [
    "len(poem)"
   ]
  },
  {
   "cell_type": "code",
   "execution_count": 3,
   "metadata": {},
   "outputs": [
    {
     "data": {
      "text/plain": [
       "'TWO roads diverge'"
      ]
     },
     "execution_count": 3,
     "metadata": {},
     "output_type": "execute_result"
    }
   ],
   "source": [
    "poem[:17]\n"
   ]
  },
  {
   "cell_type": "code",
   "execution_count": 4,
   "metadata": {},
   "outputs": [
    {
     "data": {
      "text/plain": [
       "True"
      ]
     },
     "execution_count": 4,
     "metadata": {},
     "output_type": "execute_result"
    }
   ],
   "source": [
    "poem.startswith('TWO')\n",
    "# NOT startswith(poem, 'TWO')"
   ]
  },
  {
   "cell_type": "code",
   "execution_count": 5,
   "metadata": {},
   "outputs": [
    {
     "data": {
      "text/plain": [
       "False"
      ]
     },
     "execution_count": 5,
     "metadata": {},
     "output_type": "execute_result"
    }
   ],
   "source": [
    "poem.endswith('And miles to go before I sleep.')"
   ]
  },
  {
   "cell_type": "code",
   "execution_count": 6,
   "metadata": {},
   "outputs": [
    {
     "data": {
      "text/plain": [
       "163"
      ]
     },
     "execution_count": 6,
     "metadata": {},
     "output_type": "execute_result"
    }
   ],
   "source": [
    "poem.find('the')"
   ]
  },
  {
   "cell_type": "code",
   "execution_count": 7,
   "metadata": {},
   "outputs": [
    {
     "data": {
      "text/plain": [
       "'the undergrowth'"
      ]
     },
     "execution_count": 7,
     "metadata": {},
     "output_type": "execute_result"
    }
   ],
   "source": [
    "poem[163:178]"
   ]
  },
  {
   "cell_type": "code",
   "execution_count": 8,
   "metadata": {},
   "outputs": [
    {
     "data": {
      "text/plain": [
       "714"
      ]
     },
     "execution_count": 8,
     "metadata": {},
     "output_type": "execute_result"
    }
   ],
   "source": [
    "poem.rfind('the')"
   ]
  },
  {
   "cell_type": "code",
   "execution_count": 9,
   "metadata": {},
   "outputs": [
    {
     "data": {
      "text/plain": [
       "12"
      ]
     },
     "execution_count": 9,
     "metadata": {},
     "output_type": "execute_result"
    }
   ],
   "source": [
    "poem.count('the')"
   ]
  },
  {
   "cell_type": "markdown",
   "metadata": {
    "slideshow": {
     "slide_type": "subslide"
    }
   },
   "source": [
    "### __`strip()`__\n",
    "* remove leading and training spaces (or other characters)"
   ]
  },
  {
   "cell_type": "code",
   "execution_count": 11,
   "metadata": {},
   "outputs": [
    {
     "data": {
      "text/plain": [
       "'Now is the time'"
      ]
     },
     "execution_count": 11,
     "metadata": {},
     "output_type": "execute_result"
    }
   ],
   "source": [
    "s = ' Now is the time      '\n",
    "s.strip()"
   ]
  },
  {
   "cell_type": "code",
   "execution_count": 12,
   "metadata": {},
   "outputs": [
    {
     "data": {
      "text/plain": [
       "' Now is the time      '"
      ]
     },
     "execution_count": 12,
     "metadata": {},
     "output_type": "execute_result"
    }
   ],
   "source": [
    "s"
   ]
  },
  {
   "cell_type": "code",
   "execution_count": 14,
   "metadata": {},
   "outputs": [],
   "source": [
    "s = '.' + s.strip() + '...'"
   ]
  },
  {
   "cell_type": "code",
   "execution_count": 15,
   "metadata": {},
   "outputs": [
    {
     "data": {
      "text/plain": [
       "'..Now is the time......'"
      ]
     },
     "execution_count": 15,
     "metadata": {},
     "output_type": "execute_result"
    }
   ],
   "source": [
    "s"
   ]
  },
  {
   "cell_type": "code",
   "execution_count": 16,
   "metadata": {},
   "outputs": [
    {
     "data": {
      "text/plain": [
       "'Now is the time'"
      ]
     },
     "execution_count": 16,
     "metadata": {},
     "output_type": "execute_result"
    }
   ],
   "source": [
    "s.strip('.')"
   ]
  },
  {
   "cell_type": "markdown",
   "metadata": {
    "slideshow": {
     "slide_type": "subslide"
    }
   },
   "source": [
    "### Even More String Functions..."
   ]
  },
  {
   "cell_type": "code",
   "execution_count": 17,
   "metadata": {},
   "outputs": [
    {
     "data": {
      "text/plain": [
       "'Now is the time'"
      ]
     },
     "execution_count": 17,
     "metadata": {},
     "output_type": "execute_result"
    }
   ],
   "source": [
    "s = 'now IS the time'\n",
    "s.capitalize()"
   ]
  },
  {
   "cell_type": "code",
   "execution_count": 18,
   "metadata": {},
   "outputs": [
    {
     "data": {
      "text/plain": [
       "'NOW IS THE TIME'"
      ]
     },
     "execution_count": 18,
     "metadata": {},
     "output_type": "execute_result"
    }
   ],
   "source": [
    "s.upper()"
   ]
  },
  {
   "cell_type": "code",
   "execution_count": 19,
   "metadata": {},
   "outputs": [
    {
     "data": {
      "text/plain": [
       "'now is the time'"
      ]
     },
     "execution_count": 19,
     "metadata": {},
     "output_type": "execute_result"
    }
   ],
   "source": [
    "s.lower()"
   ]
  },
  {
   "cell_type": "code",
   "execution_count": 20,
   "metadata": {},
   "outputs": [
    {
     "data": {
      "text/plain": [
       "'now IS not the time'"
      ]
     },
     "execution_count": 20,
     "metadata": {},
     "output_type": "execute_result"
    }
   ],
   "source": [
    "s.replace('the', 'not the')"
   ]
  },
  {
   "cell_type": "code",
   "execution_count": 21,
   "metadata": {},
   "outputs": [
    {
     "data": {
      "text/plain": [
       "'now IS The Time'"
      ]
     },
     "execution_count": 21,
     "metadata": {},
     "output_type": "execute_result"
    }
   ],
   "source": [
    "s.replace('t', 'T')"
   ]
  },
  {
   "cell_type": "markdown",
   "metadata": {
    "slideshow": {
     "slide_type": "subslide"
    }
   },
   "source": [
    "### Lab: String Functions\n",
    "* write a Python program which prompts the user for a string and a stride (increment), and alternately makes the string upper case and lower case, stride characters at a time, e.g.,\n",
    "![alt-text](images/uplow.png \"uplow\")\n"
   ]
  },
  {
   "cell_type": "code",
   "execution_count": 134,
   "metadata": {},
   "outputs": [
    {
     "name": "stdout",
     "output_type": "stream",
     "text": [
      "Enter a string   :  qqqwwwTTTUUUcccxxx\n",
      "Enter a stride    :  3\n",
      "------------------------------------------------------------\n",
      "QQQwwwTTTuuuCCCxxx\n"
     ]
    }
   ],
   "source": [
    "words=input (\"Enter a string   :  \")\n",
    "count=int(input (\"Enter a stride    :  \"))\n",
    "section=''\n",
    "\n",
    "for i in range(0,int(len(words)),count*2):\n",
    "    section += words[i:count+i].upper()\n",
    "    section += words[count+i:count*2+i].lower()\n",
    "\n",
    "print(\"---\"*20)\n",
    "print (section)"
   ]
  },
  {
   "cell_type": "code",
   "execution_count": 103,
   "metadata": {},
   "outputs": [
    {
     "data": {
      "text/plain": [
       "'aaaDDDcccFFFggg'"
      ]
     },
     "execution_count": 103,
     "metadata": {},
     "output_type": "execute_result"
    }
   ],
   "source": [
    "words"
   ]
  },
  {
   "cell_type": "markdown",
   "metadata": {
    "slideshow": {
     "slide_type": "subslide"
    }
   },
   "source": [
    "### __`split()/join()`__\n",
    "* Split a string into a list\n",
    "* Join a list of strings into a string\n",
    "* Remember: Both are string methods!"
   ]
  },
  {
   "cell_type": "code",
   "execution_count": null,
   "metadata": {},
   "outputs": [],
   "source": []
  },
  {
   "cell_type": "code",
   "execution_count": 10,
   "metadata": {},
   "outputs": [
    {
     "data": {
      "text/plain": [
       "['Now', 'is', 'the', 'time']"
      ]
     },
     "execution_count": 10,
     "metadata": {},
     "output_type": "execute_result"
    }
   ],
   "source": [
    "'Now is the time'.split()"
   ]
  },
  {
   "cell_type": "code",
   "execution_count": null,
   "metadata": {},
   "outputs": [],
   "source": [
    "'eggs, bread, milk, yogurt'.split(', ')"
   ]
  },
  {
   "cell_type": "code",
   "execution_count": null,
   "metadata": {},
   "outputs": [],
   "source": [
    "# would be nice if we could write...\n",
    "# ['a', 'b', 'c'].join('')\n",
    "# but we don't because join is a string method\n",
    "''.join(['anti', 'dis', 'establish', 'men',\n",
    "         'tarian', 'ism'])"
   ]
  },
  {
   "cell_type": "code",
   "execution_count": null,
   "metadata": {},
   "outputs": [],
   "source": [
    "', '.join(['Anne', 'Robert', 'Nancy'])"
   ]
  },
  {
   "cell_type": "markdown",
   "metadata": {},
   "source": [
    "## More Lists"
   ]
  },
  {
   "cell_type": "markdown",
   "metadata": {
    "slideshow": {
     "slide_type": "subslide"
    }
   },
   "source": [
    "### Quick Review\n",
    "* usually homogeneous, but may contain any objects\n",
    "* duplicates allowed\n",
    "* __`list()`__ function creates a list from another sequence"
   ]
  },
  {
   "cell_type": "code",
   "execution_count": 83,
   "metadata": {},
   "outputs": [
    {
     "data": {
      "text/plain": [
       "[1, 3, 5, 7, 5, 3, 1]"
      ]
     },
     "execution_count": 83,
     "metadata": {},
     "output_type": "execute_result"
    }
   ],
   "source": [
    "mylist = [1, 3, 5, 7, 5, 3, 1]\n",
    "mylist"
   ]
  },
  {
   "cell_type": "code",
   "execution_count": 84,
   "metadata": {},
   "outputs": [
    {
     "data": {
      "text/plain": [
       "['Mon', 'Tue', 'Wed', 'Thu', 'Fri', 'Sat', 'Sun']"
      ]
     },
     "execution_count": 84,
     "metadata": {},
     "output_type": "execute_result"
    }
   ],
   "source": [
    "days = ['Mon', 'Tue', 'Wed', 'Thu', 'Fri', 'Sat', 'Sun']\n",
    "days"
   ]
  },
  {
   "cell_type": "code",
   "execution_count": 85,
   "metadata": {},
   "outputs": [
    {
     "data": {
      "text/plain": [
       "['h', 'e', 'l', 'l', 'o']"
      ]
     },
     "execution_count": 85,
     "metadata": {},
     "output_type": "execute_result"
    }
   ],
   "source": [
    "list('hello')"
   ]
  },
  {
   "cell_type": "code",
   "execution_count": 86,
   "metadata": {
    "slideshow": {
     "slide_type": "subslide"
    }
   },
   "outputs": [
    {
     "data": {
      "text/plain": [
       "['12', '07', '1941']"
      ]
     },
     "execution_count": 86,
     "metadata": {},
     "output_type": "execute_result"
    }
   ],
   "source": [
    "date = '12/07/1941'\n",
    "date.split('/')"
   ]
  },
  {
   "cell_type": "code",
   "execution_count": 87,
   "metadata": {},
   "outputs": [
    {
     "data": {
      "text/plain": [
       "['a', 'b', '', 'c', 'd', '', 'e', '', 'f']"
      ]
     },
     "execution_count": 87,
     "metadata": {},
     "output_type": "execute_result"
    }
   ],
   "source": [
    "'a/b//c/d//e//f'.split('/')"
   ]
  },
  {
   "cell_type": "code",
   "execution_count": 88,
   "metadata": {},
   "outputs": [
    {
     "name": "stdout",
     "output_type": "stream",
     "text": [
      "Enter something: hello\n"
     ]
    }
   ],
   "source": [
    "stuff = input('Enter something: ')"
   ]
  },
  {
   "cell_type": "code",
   "execution_count": 89,
   "metadata": {},
   "outputs": [
    {
     "data": {
      "text/plain": [
       "['hello']"
      ]
     },
     "execution_count": 89,
     "metadata": {},
     "output_type": "execute_result"
    }
   ],
   "source": [
    "stuff.split()"
   ]
  },
  {
   "cell_type": "code",
   "execution_count": 91,
   "metadata": {
    "slideshow": {
     "slide_type": "subslide"
    }
   },
   "outputs": [],
   "source": [
    "stooges = ['Larry', 'Moe', 'Curly']"
   ]
  },
  {
   "cell_type": "code",
   "execution_count": 92,
   "metadata": {},
   "outputs": [
    {
     "data": {
      "text/plain": [
       "'Moe'"
      ]
     },
     "execution_count": 92,
     "metadata": {},
     "output_type": "execute_result"
    }
   ],
   "source": [
    "stooges[1]"
   ]
  },
  {
   "cell_type": "code",
   "execution_count": 93,
   "metadata": {},
   "outputs": [
    {
     "data": {
      "text/plain": [
       "'Curly'"
      ]
     },
     "execution_count": 93,
     "metadata": {},
     "output_type": "execute_result"
    }
   ],
   "source": [
    "stooges[-1]"
   ]
  },
  {
   "cell_type": "code",
   "execution_count": 94,
   "metadata": {},
   "outputs": [],
   "source": [
    "people = [stooges, 'Groucho']"
   ]
  },
  {
   "cell_type": "code",
   "execution_count": 95,
   "metadata": {},
   "outputs": [
    {
     "data": {
      "text/plain": [
       "['Larry', 'Moe', 'Curly']"
      ]
     },
     "execution_count": 95,
     "metadata": {},
     "output_type": "execute_result"
    }
   ],
   "source": [
    "people[0]"
   ]
  },
  {
   "cell_type": "code",
   "execution_count": 96,
   "metadata": {},
   "outputs": [
    {
     "data": {
      "text/plain": [
       "'Curly'"
      ]
     },
     "execution_count": 96,
     "metadata": {},
     "output_type": "execute_result"
    }
   ],
   "source": [
    "people[0][-1]"
   ]
  },
  {
   "cell_type": "code",
   "execution_count": 97,
   "metadata": {},
   "outputs": [
    {
     "data": {
      "text/plain": [
       "['Larry', 'Moe', 'Curley']"
      ]
     },
     "execution_count": 97,
     "metadata": {},
     "output_type": "execute_result"
    }
   ],
   "source": [
    "stooges[2] = 'Curley'\n",
    "stooges"
   ]
  },
  {
   "cell_type": "code",
   "execution_count": 98,
   "metadata": {},
   "outputs": [
    {
     "data": {
      "text/plain": [
       "['Larry', 'Moe']"
      ]
     },
     "execution_count": 98,
     "metadata": {},
     "output_type": "execute_result"
    }
   ],
   "source": [
    "stooges[:2]"
   ]
  },
  {
   "cell_type": "code",
   "execution_count": 99,
   "metadata": {},
   "outputs": [
    {
     "data": {
      "text/plain": [
       "['Larry', 'Curley']"
      ]
     },
     "execution_count": 99,
     "metadata": {},
     "output_type": "execute_result"
    }
   ],
   "source": [
    "stooges[::2]"
   ]
  },
  {
   "cell_type": "code",
   "execution_count": 100,
   "metadata": {},
   "outputs": [
    {
     "data": {
      "text/plain": [
       "['Curley', 'Moe', 'Larry']"
      ]
     },
     "execution_count": 100,
     "metadata": {},
     "output_type": "execute_result"
    }
   ],
   "source": [
    "stooges[::-1]"
   ]
  },
  {
   "cell_type": "markdown",
   "metadata": {
    "slideshow": {
     "slide_type": "subslide"
    }
   },
   "source": [
    "### Looping Through a List"
   ]
  },
  {
   "cell_type": "code",
   "execution_count": 101,
   "metadata": {},
   "outputs": [
    {
     "name": "stdout",
     "output_type": "stream",
     "text": [
      "Larry\n",
      "Moe\n",
      "Curley\n"
     ]
    }
   ],
   "source": [
    "count = 0\n",
    "while count < len(stooges):\n",
    "    print(stooges[count])\n",
    "    count += 1"
   ]
  },
  {
   "cell_type": "markdown",
   "metadata": {},
   "source": [
    "* That works, but it's not the way we'd write it in Python\n",
    "* Prefer *idiomatic* Python code\n",
    "* \"When all you have is a hammer...\""
   ]
  },
  {
   "cell_type": "code",
   "execution_count": null,
   "metadata": {
    "slideshow": {
     "slide_type": "subslide"
    }
   },
   "outputs": [],
   "source": [
    "for stooge in stooges:\n",
    "    print(stooge)"
   ]
  },
  {
   "cell_type": "markdown",
   "metadata": {
    "slideshow": {
     "slide_type": "subslide"
    }
   },
   "source": [
    "### Adding to a List\n",
    "* __`append()`__: add an item the end of a list\n",
    "* __`insert()`__: add an item to a particular place in the list\n",
    "* __`extend()`__ (also __`+=`__): add a list to a list"
   ]
  },
  {
   "cell_type": "code",
   "execution_count": null,
   "metadata": {},
   "outputs": [],
   "source": [
    "stooges.append('Shemp')\n",
    "stooges"
   ]
  },
  {
   "cell_type": "code",
   "execution_count": null,
   "metadata": {},
   "outputs": [],
   "source": [
    "stooges.insert(2, 'Iggy')\n",
    "stooges"
   ]
  },
  {
   "cell_type": "code",
   "execution_count": null,
   "metadata": {},
   "outputs": [],
   "source": [
    "others = ['Joe', 'Joe']\n",
    "stooges += others\n",
    "stooges"
   ]
  },
  {
   "cell_type": "code",
   "execution_count": null,
   "metadata": {},
   "outputs": [],
   "source": [
    "stooges.append(others)\n",
    "stooges"
   ]
  },
  {
   "cell_type": "markdown",
   "metadata": {
    "slideshow": {
     "slide_type": "slide"
    }
   },
   "source": [
    "### Removing from a List\n",
    "* __`del`__: delete by position\n",
    "* __`remove(item)`__: remove by value\n",
    "* __`pop()`__: remove last item (or specified item)"
   ]
  },
  {
   "cell_type": "code",
   "execution_count": null,
   "metadata": {},
   "outputs": [],
   "source": [
    "stooges"
   ]
  },
  {
   "cell_type": "code",
   "execution_count": null,
   "metadata": {},
   "outputs": [],
   "source": [
    "del stooges[-1]\n",
    "stooges"
   ]
  },
  {
   "cell_type": "code",
   "execution_count": null,
   "metadata": {
    "scrolled": true
   },
   "outputs": [],
   "source": [
    "stooges.remove('Iggy')\n",
    "stooges"
   ]
  },
  {
   "cell_type": "code",
   "execution_count": null,
   "metadata": {},
   "outputs": [],
   "source": [
    "stooges.pop()"
   ]
  },
  {
   "cell_type": "code",
   "execution_count": null,
   "metadata": {},
   "outputs": [],
   "source": [
    "stooges"
   ]
  },
  {
   "cell_type": "code",
   "execution_count": null,
   "metadata": {
    "scrolled": true
   },
   "outputs": [],
   "source": [
    "stooges.remove('Joe')\n",
    "stooges"
   ]
  },
  {
   "cell_type": "code",
   "execution_count": null,
   "metadata": {},
   "outputs": [],
   "source": [
    "stooges.pop(0)"
   ]
  },
  {
   "cell_type": "code",
   "execution_count": null,
   "metadata": {},
   "outputs": [],
   "source": [
    "stooges"
   ]
  },
  {
   "cell_type": "markdown",
   "metadata": {
    "slideshow": {
     "slide_type": "subslide"
    }
   },
   "source": [
    "### Examining Lists\n",
    "* __`index(item)`__: return position of item\n",
    "* __`in`__: test for membership\n",
    "* __`count(item)`__: count occurrences of item"
   ]
  },
  {
   "cell_type": "code",
   "execution_count": null,
   "metadata": {},
   "outputs": [],
   "source": [
    "stooges"
   ]
  },
  {
   "cell_type": "code",
   "execution_count": null,
   "metadata": {},
   "outputs": [],
   "source": [
    "stooges.index('Moe')"
   ]
  },
  {
   "cell_type": "code",
   "execution_count": null,
   "metadata": {},
   "outputs": [],
   "source": [
    "'Larry' in stooges"
   ]
  },
  {
   "cell_type": "code",
   "execution_count": null,
   "metadata": {},
   "outputs": [],
   "source": [
    "'Curley' in stooges"
   ]
  },
  {
   "cell_type": "code",
   "execution_count": 104,
   "metadata": {},
   "outputs": [
    {
     "data": {
      "text/plain": [
       "9"
      ]
     },
     "execution_count": 104,
     "metadata": {},
     "output_type": "execute_result"
    }
   ],
   "source": [
    "for count in range(1, 10):\n",
    "    stooges.append('Joe')\n",
    "stooges.count('Joe')"
   ]
  },
  {
   "cell_type": "code",
   "execution_count": 105,
   "metadata": {},
   "outputs": [
    {
     "data": {
      "text/plain": [
       "['Larry', 'Moe', 'Curley']"
      ]
     },
     "execution_count": 105,
     "metadata": {},
     "output_type": "execute_result"
    }
   ],
   "source": [
    "while 'Joe' in stooges:\n",
    "    stooges.remove('Joe')\n",
    "stooges"
   ]
  },
  {
   "cell_type": "markdown",
   "metadata": {
    "slideshow": {
     "slide_type": "subslide"
    }
   },
   "source": [
    "### __`join()/split()`__–redux"
   ]
  },
  {
   "cell_type": "code",
   "execution_count": 106,
   "metadata": {},
   "outputs": [
    {
     "data": {
      "text/plain": [
       "['Larry', 'Moe', 'Curley']"
      ]
     },
     "execution_count": 106,
     "metadata": {},
     "output_type": "execute_result"
    }
   ],
   "source": [
    "stooges # list"
   ]
  },
  {
   "cell_type": "code",
   "execution_count": 107,
   "metadata": {},
   "outputs": [
    {
     "data": {
      "text/plain": [
       "'Larry, Moe, Curley'"
      ]
     },
     "execution_count": 107,
     "metadata": {},
     "output_type": "execute_result"
    }
   ],
   "source": [
    "joined = ', '.join(stooges)\n",
    "joined # string which represents the \"joined\" items in the list"
   ]
  },
  {
   "cell_type": "code",
   "execution_count": 108,
   "metadata": {},
   "outputs": [
    {
     "data": {
      "text/plain": [
       "['Larry', 'Moe', 'Curley']"
      ]
     },
     "execution_count": 108,
     "metadata": {},
     "output_type": "execute_result"
    }
   ],
   "source": [
    "unjoined = joined.split(', ')\n",
    "unjoined # split into a new list"
   ]
  },
  {
   "cell_type": "code",
   "execution_count": 109,
   "metadata": {},
   "outputs": [
    {
     "data": {
      "text/plain": [
       "True"
      ]
     },
     "execution_count": 109,
     "metadata": {},
     "output_type": "execute_result"
    }
   ],
   "source": [
    "stooges == unjoined # are they the same? (They should be...)"
   ]
  },
  {
   "cell_type": "markdown",
   "metadata": {
    "slideshow": {
     "slide_type": "subslide"
    }
   },
   "source": [
    "### Sorting Lists\n",
    "* __`sort()`__: sort a list in place\n",
    "* __`sorted()`__: builtin function which returns a new sorted list from an iterable\n",
    "* __`reverse()`__: reverse a list in place\n",
    "* __`reversed()`__: builtin function which returns a new reversed list from an iterable"
   ]
  },
  {
   "cell_type": "code",
   "execution_count": 110,
   "metadata": {},
   "outputs": [
    {
     "name": "stdout",
     "output_type": "stream",
     "text": [
      "['Larry', 'Moe', 'Curley'] 140298765409088\n"
     ]
    }
   ],
   "source": [
    "stooges\n",
    "print(stooges, id(stooges))"
   ]
  },
  {
   "cell_type": "code",
   "execution_count": 111,
   "metadata": {},
   "outputs": [
    {
     "name": "stdout",
     "output_type": "stream",
     "text": [
      "['Curley', 'Larry', 'Moe'] 140298765409088\n"
     ]
    }
   ],
   "source": [
    "stooges.sort() # method which sorts the list\n",
    "print(stooges, id(stooges))"
   ]
  },
  {
   "cell_type": "code",
   "execution_count": 112,
   "metadata": {},
   "outputs": [
    {
     "data": {
      "text/plain": [
       "(['Moe', 'Larry', 'Curley'], 140298765409088)"
      ]
     },
     "execution_count": 112,
     "metadata": {},
     "output_type": "execute_result"
    }
   ],
   "source": [
    "stooges.sort(reverse=True)\n",
    "stooges, id(stooges)"
   ]
  },
  {
   "cell_type": "code",
   "execution_count": 113,
   "metadata": {
    "scrolled": true
   },
   "outputs": [
    {
     "name": "stdout",
     "output_type": "stream",
     "text": [
      "140298765409088 140298761483040\n"
     ]
    }
   ],
   "source": [
    "sorted_list = sorted(stooges)\n",
    "print(id(stooges), id(sorted_list))"
   ]
  },
  {
   "cell_type": "markdown",
   "metadata": {
    "slideshow": {
     "slide_type": "subslide"
    }
   },
   "source": [
    "\n",
    "## Lab: List Managment\n",
    "* write a Python program to maintain two lists and loop until the user wants to quit\n",
    "* your program should offer the user the following options:\n",
    "  * add an item to list 1 or 2\n",
    "  * remove an item from list 1 or 2 by value or index\n",
    "  * reverse list 1 or list 2\n",
    "  * display both lists\n",
    "  * EXTRA: add an option to check if lists are equal, even if contents are not in the same order (i.e., if list 1 contains __`['fig, 'apple', 'pear']`__ and list 2 contains __`['pear', 'fig, 'apple']`__, you should indicate they are the same)\n"
   ]
  },
  {
   "cell_type": "code",
   "execution_count": 177,
   "metadata": {},
   "outputs": [
    {
     "name": "stdout",
     "output_type": "stream",
     "text": [
      "Please enter grp1 or grp2 to edit or 'q' to quite : q\n",
      "----------------------------------------\n",
      "The grop1 contrains: []\n",
      "The grop1 contrains: []\n",
      "** group1 and group2 contained same items and are considered equal **\n"
     ]
    }
   ],
   "source": [
    "grp1=[]\n",
    "grp2=[]\n",
    "ans= input (\"Please enter grp1 or grp2 to edit or 'q' to quite : \")\n",
    "while ans != \"q\":\n",
    "    todo = input (\"'A'-ADD, 'D'-remove/delete, 'R'-reverse grp1 to grp2,  or change group 'C' or 'Q' quite=: \")\n",
    "    \n",
    "    if todo.lower() ==\"a\":\n",
    "        item= input (\"      \\== Enter the item to be add for group \"+ans+\" : \")\n",
    "        locals()[ans].append(item)\n",
    "\n",
    "    elif todo.lower() ==\"d\":\n",
    "        item= input (\"      \\== Enter the item to be removed for group \"+ans+\" : \")\n",
    "        locals()[ans].remove(item)\n",
    "\n",
    "    elif todo.lower() ==\"r\":\n",
    "        item= grp1\n",
    "        grp1= grp2\n",
    "        grp2= item\n",
    "\n",
    "    elif todo.lower() ==\"c\":\n",
    "        if ans ==\"grp1\":\n",
    "            ans=\"grp2\"\n",
    "        else:\n",
    "            ans=\"grp1\"\n",
    "        print (\"   **  the group is now set it as ==>\", ans)\n",
    "        \n",
    "    elif todo.lower() ==\"q\":\n",
    "        break\n",
    "        \n",
    "print(\"--\"*20)\n",
    "print(\"The grop1 contrains:\", grp1 ) \n",
    "print(\"The grop1 contrains:\", grp2 ) \n",
    "if sorted(grp1) == sorted(grp2):\n",
    "    print (\"** group1 and group2 contained same items and are considered equal **\")\n",
    "else:\n",
    "    print (\"-- group1 and group2 does not contain same items and are considered NOT equal --\")"
   ]
  },
  {
   "cell_type": "code",
   "execution_count": 146,
   "metadata": {},
   "outputs": [
    {
     "data": {
      "text/plain": [
       "'q'"
      ]
     },
     "execution_count": 146,
     "metadata": {},
     "output_type": "execute_result"
    }
   ],
   "source": [
    "todo\n"
   ]
  },
  {
   "cell_type": "markdown",
   "metadata": {
    "slideshow": {
     "slide_type": "subslide"
    }
   },
   "source": [
    "## Lab: Deduplicating Lists\n",
    "* Write a Python program to read in a list of items possibly containing duplicates, and then constructs a new list which contains the elements from the original list, with the order preserved, but the duplicates removed\n",
    "![alt-text](images/list2.png \"list2\")"
   ]
  },
  {
   "cell_type": "markdown",
   "metadata": {
    "slideshow": {
     "slide_type": "subslide"
    }
   },
   "source": [
    "## Lab: More List Management\n",
    "* Write a Python program to maintain a list \n",
    "  * Read input until the user enters 'quit'\n",
    "  * Words that the user enters should be added to the list\n",
    "  * If a word begins with '-' (e.g., '-foo') it should be removed from the list\n",
    "  * If the user enters only a '-', the list should be reversed\n",
    "  * After each operation, print the list\n",
    "  * Extras:\n",
    "      * If user enters more than one word (e.g, __foo bar__), add \"foo\" and \"bar\" to the list, rather than \"foo bar\"\n",
    "      * Same for \"-\", i.e., __-foo bar__ would remove \"foo\" and \"bar\" from the  list"
   ]
  },
  {
   "cell_type": "markdown",
   "metadata": {
    "slideshow": {
     "slide_type": "subslide"
    }
   },
   "source": [
    "## Being \"Pythonic\""
   ]
  },
  {
   "cell_type": "code",
   "execution_count": 178,
   "metadata": {},
   "outputs": [],
   "source": [
    "stooges = ['Shemp', 'Moe', 'Larry', 'Curley']"
   ]
  },
  {
   "cell_type": "code",
   "execution_count": 179,
   "metadata": {},
   "outputs": [
    {
     "name": "stdout",
     "output_type": "stream",
     "text": [
      "index 0 is Shemp\n",
      "index 1 is Moe\n",
      "index 2 is Larry\n",
      "index 3 is Curley\n"
     ]
    }
   ],
   "source": [
    "i = 0\n",
    "for stooge in stooges:\n",
    "    print('index', i, 'is', stooge)\n",
    "    i += 1"
   ]
  },
  {
   "cell_type": "markdown",
   "metadata": {
    "slideshow": {
     "slide_type": "subslide"
    }
   },
   "source": [
    "### __`enumerate()`__\n",
    "* a builtin function which associates an index with each item in an iterable\n",
    "* returns an _enumerate_ object which can be iterated\n"
   ]
  },
  {
   "cell_type": "code",
   "execution_count": 180,
   "metadata": {},
   "outputs": [
    {
     "name": "stdout",
     "output_type": "stream",
     "text": [
      "index 0 is Shemp\n",
      "index 1 is Moe\n",
      "index 2 is Larry\n",
      "index 3 is Curley\n"
     ]
    }
   ],
   "source": [
    "for index, stooge in enumerate(stooges):\n",
    "    print('index', index, 'is', stooge)"
   ]
  },
  {
   "cell_type": "code",
   "execution_count": 118,
   "metadata": {},
   "outputs": [
    {
     "data": {
      "text/plain": [
       "enumerate"
      ]
     },
     "execution_count": 118,
     "metadata": {},
     "output_type": "execute_result"
    }
   ],
   "source": [
    "type(enumerate(stooges))"
   ]
  },
  {
   "cell_type": "markdown",
   "metadata": {
    "slideshow": {
     "slide_type": "subslide"
    }
   },
   "source": [
    "### __`zip(*iterable)`__\n",
    "* builtin function which matches up each item in an iterable with the corresponding item in the other iterable(s)\n",
    "* technically creates an iterator that aggregates elements from each iterable\n",
    "* why is it called __`zip`__?"
   ]
  },
  {
   "cell_type": "code",
   "execution_count": 181,
   "metadata": {},
   "outputs": [
    {
     "name": "stdout",
     "output_type": "stream",
     "text": [
      "Larry Groucho\n",
      "Moe Harpo\n",
      "Curly Chico\n"
     ]
    }
   ],
   "source": [
    "stooges = ['Larry', 'Moe', 'Curly']\n",
    "marxbros = ['Groucho', 'Harpo', 'Chico']\n",
    "\n",
    "for stooge, marx in zip(stooges, marxbros):\n",
    "    print(stooge, marx)"
   ]
  },
  {
   "cell_type": "code",
   "execution_count": 182,
   "metadata": {},
   "outputs": [
    {
     "name": "stdout",
     "output_type": "stream",
     "text": [
      "Larry Groucho\n",
      "Moe Harpo\n",
      "Curly Chico\n"
     ]
    }
   ],
   "source": [
    "stooges = ['Larry', 'Moe', 'Curly']\n",
    "marxbros = ['Groucho', 'Harpo', 'Chico', 'Zeppo']\n",
    "for stooge, marx in zip(stooges, marxbros):\n",
    "    print(stooge, marx)"
   ]
  },
  {
   "cell_type": "code",
   "execution_count": 183,
   "metadata": {
    "scrolled": false
   },
   "outputs": [
    {
     "name": "stdout",
     "output_type": "stream",
     "text": [
      "Larry Groucho\n",
      "Moe Harpo\n",
      "Curly Chico\n",
      "None Zeppo\n"
     ]
    }
   ],
   "source": [
    "import itertools # module that helps with iteration\n",
    "stooges = ['Larry', 'Moe', 'Curly']\n",
    "marxbros = ['Groucho', 'Harpo', 'Chico', 'Zeppo']\n",
    "\n",
    "for stooge, marx in itertools.zip_longest(stooges,\n",
    "                     marxbros):\n",
    "    print(stooge, marx)"
   ]
  },
  {
   "cell_type": "code",
   "execution_count": 193,
   "metadata": {},
   "outputs": [
    {
     "name": "stdout",
     "output_type": "stream",
     "text": [
      "Larry Groucho\n",
      "Moe Harpo\n",
      "Curly Chico\n"
     ]
    }
   ],
   "source": [
    "newval= zip(stooges,marxbros)\n",
    "for i,n in newval:\n",
    "    print (i,n)"
   ]
  },
  {
   "cell_type": "markdown",
   "metadata": {
    "slideshow": {
     "slide_type": "slide"
    }
   },
   "source": [
    "## List Comprehensions"
   ]
  },
  {
   "cell_type": "markdown",
   "metadata": {
    "slideshow": {
     "slide_type": "subslide"
    }
   },
   "source": [
    "### List Comprehensions (\"listcomps\")\n",
    "* Quick way to build a list\n",
    "* \"Syntactic sugar\"\n",
    "* More readable/faster\n",
    "* Which is easier to read?"
   ]
  },
  {
   "cell_type": "code",
   "execution_count": 194,
   "metadata": {},
   "outputs": [
    {
     "name": "stdout",
     "output_type": "stream",
     "text": [
      "[65, 66, 67, 97, 98, 99, 42]\n"
     ]
    }
   ],
   "source": [
    "string = 'ABCabc*'\n",
    "ascii_codes = []\n",
    "for char in string:\n",
    "    ascii_codes.append(ord(char))\n",
    "    \n",
    "print(ascii_codes)"
   ]
  },
  {
   "cell_type": "code",
   "execution_count": 195,
   "metadata": {
    "scrolled": true
   },
   "outputs": [
    {
     "name": "stdout",
     "output_type": "stream",
     "text": [
      "[65, 66, 67, 97, 98, 99, 42]\n"
     ]
    }
   ],
   "source": [
    "string = 'ABCabc*'\n",
    "ascii_codes = [ord(char) for char in string]\n",
    "\n",
    "print(ascii_codes)"
   ]
  },
  {
   "cell_type": "code",
   "execution_count": 204,
   "metadata": {},
   "outputs": [
    {
     "name": "stdout",
     "output_type": "stream",
     "text": [
      "before = [1, 2, 3, 5, 6, 9]\n",
      "\n",
      "after = [2, 4, 6, 10, 12, 18]\n"
     ]
    }
   ],
   "source": [
    "listnum=[1,2,3,5,6,9]\n",
    "new = [ num+num for num in listnum]\n",
    "print(f\"\"\"before = {listnum}\n",
    "\n",
    "after = {new}\"\"\" )"
   ]
  },
  {
   "cell_type": "code",
   "execution_count": null,
   "metadata": {},
   "outputs": [],
   "source": []
  },
  {
   "cell_type": "markdown",
   "metadata": {
    "slideshow": {
     "slide_type": "subslide"
    }
   },
   "source": [
    "### List Comprehensions (cont'd)\n",
    "* listcomps can generate a list from the Cartesian product of two or more iterables"
   ]
  },
  {
   "cell_type": "code",
   "execution_count": 216,
   "metadata": {},
   "outputs": [
    {
     "data": {
      "text/plain": [
       "[['black', 'S'],\n",
       " ['black', 'M'],\n",
       " ['black', 'L'],\n",
       " ['white', 'S'],\n",
       " ['white', 'M'],\n",
       " ['white', 'L']]"
      ]
     },
     "execution_count": 216,
     "metadata": {},
     "output_type": "execute_result"
    }
   ],
   "source": [
    "colors = ['black', 'white']\n",
    "sizes = ['S', 'M', 'L']\n",
    "tshirts = [[color, size] for color in colors\n",
    "                         for size in sizes]\n",
    "tshirts\n"
   ]
  },
  {
   "cell_type": "code",
   "execution_count": 217,
   "metadata": {},
   "outputs": [
    {
     "name": "stdout",
     "output_type": "stream",
     "text": [
      "['l', 'p', 'h', 'b', 't', 's', 'p', 't', 's', 't', 's', 'g', 'r', 't', '!']\n"
     ]
    }
   ],
   "source": [
    "# generate a list of all the consonants in a\n",
    "# string, discarding vowels and spaces\n",
    "string = 'alphabet soup tastes great!'\n",
    "consonants = [char for char in string\n",
    "                 if char not in 'aeiou ']\n",
    "print(consonants)"
   ]
  },
  {
   "cell_type": "markdown",
   "metadata": {},
   "source": [
    "### List Comprehension Structure\n",
    "`[<element expression> <iteration> [optional filter]]`"
   ]
  },
  {
   "cell_type": "markdown",
   "metadata": {
    "slideshow": {
     "slide_type": "subslide"
    }
   },
   "source": [
    "## Lab: List Comprehensions\n",
    "*  Start with Cartesian product example (colors x sizes of t-shirts) and add a third list, __`sleeves = ['short', 'long']`__ then write a new listcomp which generates the Cartesian product colors x sizes x sleeves.  \n",
    "__`tshirts`__ should look like this:\n",
    "```\n",
    "    [['black', 'S', 'short'],\n",
    "     ['black', 'S', 'long'],\n",
    "     ['black', 'M', 'short'],\n",
    "     ['black', 'M', 'long'],\n",
    "     ['black', 'L', 'short'],\n",
    "     ['black', 'L', 'long'],\n",
    "     ['white', 'S', 'short'],\n",
    "     ['white', 'S', 'long'],\n",
    "     ['white', 'M', 'short'],\n",
    "     ['white', 'M', 'long'],\n",
    "     ['white', 'L', 'short'],\n",
    "     ['white', 'L', 'long']]\n",
    "```\n",
    "* Use a list comprehension to create a list of the squares of the integers from 1 to 25 (i.e, 1, 4, 9, 16, …, 625)\n",
    "* Given a list of words, create a second list which contains all the words from the first list which do NOT end with a vowel\n",
    "* Use a list comprehension to create a list of the integers from 1 to 100 which are not evenly divisible by 5"
   ]
  },
  {
   "cell_type": "code",
   "execution_count": 220,
   "metadata": {
    "scrolled": true
   },
   "outputs": [
    {
     "data": {
      "text/plain": [
       "[['black', 'S', 'short'],\n",
       " ['black', 'S', 'long'],\n",
       " ['black', 'M', 'short'],\n",
       " ['black', 'M', 'long'],\n",
       " ['black', 'L', 'short'],\n",
       " ['black', 'L', 'long'],\n",
       " ['white', 'S', 'short'],\n",
       " ['white', 'S', 'long'],\n",
       " ['white', 'M', 'short'],\n",
       " ['white', 'M', 'long'],\n",
       " ['white', 'L', 'short'],\n",
       " ['white', 'L', 'long']]"
      ]
     },
     "execution_count": 220,
     "metadata": {},
     "output_type": "execute_result"
    }
   ],
   "source": [
    "colors = ['black', 'white']\n",
    "sizes = ['S', 'M', 'L']\n",
    "sleeves = ['short', 'long']\n",
    "tshirts = [[color, size, sleeve] for color in colors\n",
    "                         for size in sizes\n",
    "                         for sleeve in sleeves]\n",
    "tshirts"
   ]
  },
  {
   "cell_type": "code",
   "execution_count": 241,
   "metadata": {},
   "outputs": [
    {
     "name": "stdout",
     "output_type": "stream",
     "text": [
      "before = [1, 2, 3, 4, 5, 6, 7, 8, 9, 10, 11, 12, 13, 14, 15, 16, 17, 18, 19, 20, 21, 22, 23, 24, 25]\n",
      "\n",
      "after = [1, 4, 9, 16, 25, 36, 49, 64, 81, 100, 121, 144, 169, 196, 225, 256, 289, 324, 361, 400, 441, 484, 529, 576, 625]\n"
     ]
    }
   ],
   "source": [
    "#Use a list comprehension to create a list of the squares of the integers from 1 to 25 (i.e, 1, 4, 9, 16, …, 625)\n",
    "listnum=list(range(1,26))\n",
    "new = [ num*num for num in listnum] # List Comprehensions\n",
    "print(f\"\"\"before = {listnum}\n",
    "\n",
    "after = {new}\"\"\" )"
   ]
  },
  {
   "cell_type": "code",
   "execution_count": 247,
   "metadata": {},
   "outputs": [
    {
     "name": "stdout",
     "output_type": "stream",
     "text": [
      "first list : ['alphabet', 'soup', 'tastes', 'great', 'NO', 'he', 'said']\n",
      "------------------------------------------------------------\n",
      "new list : ['alphabet', 'soup', 'tastes', 'great', 'said']\n"
     ]
    }
   ],
   "source": [
    "#Given a list of words, create a second list which contains all the words from the first list which do NOT end with a vowel\n",
    "\n",
    "listofwords = ['alphabet', 'soup', 'tastes' ,'great', 'NO', 'he', 'said']\n",
    "newlist = [char \n",
    "               for char in listofwords  \n",
    "                       if char[-1].lower() not in 'aeiou ']\n",
    "\n",
    "print(f\"\"\"first list : {listofwords}\n",
    "{\"---\"*20}\n",
    "new list : {newlist}\"\"\")\n"
   ]
  },
  {
   "cell_type": "code",
   "execution_count": 240,
   "metadata": {},
   "outputs": [
    {
     "name": "stdout",
     "output_type": "stream",
     "text": [
      "before = [0, 1, 2, 3, 4, 5, 6, 7, 8, 9, 10, 11, 12, 13, 14, 15, 16, 17, 18, 19, 20, 21, 22, 23, 24, 25, 26, 27, 28, 29, 30, 31, 32, 33, 34, 35, 36, 37, 38, 39, 40, 41, 42, 43, 44, 45, 46, 47, 48, 49]\n",
      "\n",
      "after = [1, 2, 3, 4, 6, 7, 8, 9, 11, 12, 13, 14, 16, 17, 18, 19, 21, 22, 23, 24, 26, 27, 28, 29, 31, 32, 33, 34, 36, 37, 38, 39, 41, 42, 43, 44, 46, 47, 48, 49]\n"
     ]
    }
   ],
   "source": [
    "#Use a list comprehension to create a list of the integers from 1 to 100 which are not evenly divisible by 5\n",
    "listnum=list(range(50))\n",
    "new = [ num for num in listnum if num% 5 != 0]\n",
    "print(f\"\"\"before = {listnum}\n",
    "\n",
    "after = {new}\"\"\" )"
   ]
  },
  {
   "cell_type": "code",
   "execution_count": 249,
   "metadata": {},
   "outputs": [
    {
     "name": "stdout",
     "output_type": "stream",
     "text": [
      "first list : ['alphabet', 'soup', 'tastes', 'great', 'NO', 'he', 'said']\n",
      "------------------------------------------------------------\n",
      "new list : ['alphabet', 'soup', 'tastes', 'great', 'said']\n"
     ]
    }
   ],
   "source": [
    "#Given a list of words, create a second list which contains all the words from the first list which do NOT end with a vowel\n",
    "\n",
    "listofwords = ['alphabet', 'soup', 'tastes' ,'great', 'NO', 'he', 'said']\n",
    "newlist = [char \n",
    "               for char in listofwords  \n",
    "                       if char[-1].lower() not in 'aeiou ']\n",
    "\n",
    "print(f\"\"\"first list : {listofwords}\n",
    "{\"---\"*20}\n",
    "new list : {newlist}\"\"\")"
   ]
  },
  {
   "cell_type": "markdown",
   "metadata": {
    "slideshow": {
     "slide_type": "subslide"
    }
   },
   "source": [
    "### listcomps recap\n",
    "* keep them short\n",
    "* they are not list *incomprehensions*, so keep them simple\n",
    "* use line breaks since they are ignored inside [] (and (), {}) and you therefore don't need the ugly `\\` line continuation character\n",
    "* note that __`for`__ loops do many things (e.g., scan a sequence to count or select items), computing aggregates (sum, averages) or any number of other processing tasks\n",
    "* in contrast, listcomps do ONE thing–generate lists!"
   ]
  },
  {
   "cell_type": "markdown",
   "metadata": {},
   "source": [
    "## More Dictionaries"
   ]
  },
  {
   "cell_type": "markdown",
   "metadata": {
    "slideshow": {
     "slide_type": "subslide"
    }
   },
   "source": [
    "\n",
    "### Quick Review:\n",
    "* contains key/value pairs\n",
    "* indexed by key, not by integer\n",
    "* sometimes called a \"hash\", \"hashmap\", or \"associative array\"\n",
    "* Values can be any type\n",
    "* Keys must be an *immutable* type"
   ]
  },
  {
   "cell_type": "code",
   "execution_count": 250,
   "metadata": {},
   "outputs": [],
   "source": [
    "d = {} # empty dict"
   ]
  },
  {
   "cell_type": "code",
   "execution_count": 251,
   "metadata": {},
   "outputs": [],
   "source": [
    "d = { 'X': 10, 'V': 5, 'I': 1 } # can be initialized when declared"
   ]
  },
  {
   "cell_type": "code",
   "execution_count": 252,
   "metadata": {},
   "outputs": [
    {
     "name": "stdout",
     "output_type": "stream",
     "text": [
      "{'X': 10, 'V': 5, 'I': 1}\n"
     ]
    }
   ],
   "source": [
    "print(d)"
   ]
  },
  {
   "cell_type": "code",
   "execution_count": 253,
   "metadata": {},
   "outputs": [
    {
     "name": "stdout",
     "output_type": "stream",
     "text": [
      "{'X': 10, 'V': 5, 'I': 1, 'L': 50}\n"
     ]
    }
   ],
   "source": [
    "d['L'] = 50\n",
    "print(d)"
   ]
  },
  {
   "cell_type": "code",
   "execution_count": 254,
   "metadata": {},
   "outputs": [
    {
     "name": "stdout",
     "output_type": "stream",
     "text": [
      "X V I L "
     ]
    }
   ],
   "source": [
    "# iterating through a dict iterates through the keys \n",
    "for thing in d:\n",
    "    print(thing, end=' ')"
   ]
  },
  {
   "cell_type": "code",
   "execution_count": 255,
   "metadata": {},
   "outputs": [
    {
     "name": "stdout",
     "output_type": "stream",
     "text": [
      "X 10\n",
      "V 5\n",
      "I 1\n",
      "L 50\n"
     ]
    }
   ],
   "source": [
    "# ...of course we can print the values while iterating\n",
    "for thing in d:\n",
    "    print(thing, d[thing])"
   ]
  },
  {
   "cell_type": "code",
   "execution_count": 256,
   "metadata": {},
   "outputs": [
    {
     "name": "stdout",
     "output_type": "stream",
     "text": [
      "{'trenta': 31, 'grande': 16, 'venti': 20}\n"
     ]
    }
   ],
   "source": [
    "mydict = {'trenta': 31, 'grande': 16, \n",
    "          'venti': 20}\n",
    "print(mydict)"
   ]
  },
  {
   "cell_type": "code",
   "execution_count": 258,
   "metadata": {
    "scrolled": true
   },
   "outputs": [
    {
     "name": "stdout",
     "output_type": "stream",
     "text": [
      "dict_keys(['trenta', 'grande', 'venti'])\n",
      "dict_values([31, 16, 20])\n",
      "dict_items([('trenta', 31), ('grande', 16), ('venti', 20)])\n"
     ]
    }
   ],
   "source": [
    "print(mydict.keys(), \n",
    "      mydict.values(), mydict.items(), sep='\\n')"
   ]
  },
  {
   "cell_type": "code",
   "execution_count": 259,
   "metadata": {},
   "outputs": [
    {
     "data": {
      "text/plain": [
       "67"
      ]
     },
     "execution_count": 259,
     "metadata": {},
     "output_type": "execute_result"
    }
   ],
   "source": [
    "total = 0\n",
    "for amount in mydict.values():\n",
    "    total += amount\n",
    "\n",
    "total"
   ]
  },
  {
   "cell_type": "code",
   "execution_count": 260,
   "metadata": {},
   "outputs": [
    {
     "data": {
      "text/plain": [
       "{('Main', 'Park'): 'McGuffins',\n",
       " ('Main', 'First'): \"Nana's Bakery\",\n",
       " ('Main', 'Second'): 'Rare Books'}"
      ]
     },
     "execution_count": 260,
     "metadata": {},
     "output_type": "execute_result"
    }
   ],
   "source": [
    "stores_by_intersection = {\n",
    "    (\"Main\", \"Park\"): \"McGuffins\",\n",
    "    (\"Main\", \"First\"): \"Nana's Bakery\",\n",
    "    (\"Main\", \"Second\"): \"Rare Books\",\n",
    "}\n",
    "\n",
    "stores_by_intersection"
   ]
  },
  {
   "cell_type": "markdown",
   "metadata": {
    "slideshow": {
     "slide_type": "subslide"
    }
   },
   "source": [
    "### Dictionaries: View Objects\n",
    "* __`keys()`__, __`values()`__, and __`items()`__ are view objects\n",
    "* unlike lists, they provide a dynamic window into the dictionary\n",
    "* view objects are new to Python 3"
   ]
  },
  {
   "cell_type": "code",
   "execution_count": 261,
   "metadata": {},
   "outputs": [
    {
     "data": {
      "text/plain": [
       "dict_keys(['trenta', 'grande', 'venti'])"
      ]
     },
     "execution_count": 261,
     "metadata": {},
     "output_type": "execute_result"
    }
   ],
   "source": [
    "keys = mydict.keys()\n",
    "keys"
   ]
  },
  {
   "cell_type": "code",
   "execution_count": 262,
   "metadata": {},
   "outputs": [
    {
     "data": {
      "text/plain": [
       "dict_keys(['trenta', 'grande', 'venti', 'tall'])"
      ]
     },
     "execution_count": 262,
     "metadata": {},
     "output_type": "execute_result"
    }
   ],
   "source": [
    "# keys will change automagically after we add to the dict\n",
    "mydict['tall'] = 12\n",
    "keys"
   ]
  },
  {
   "cell_type": "code",
   "execution_count": 263,
   "metadata": {},
   "outputs": [
    {
     "data": {
      "text/plain": [
       "dict_values([31, 16, 20, 12])"
      ]
     },
     "execution_count": 263,
     "metadata": {},
     "output_type": "execute_result"
    }
   ],
   "source": [
    "vals = mydict.values()\n",
    "vals "
   ]
  },
  {
   "cell_type": "markdown",
   "metadata": {
    "slideshow": {
     "slide_type": "subslide"
    }
   },
   "source": [
    "### Dictionaries: __`enumerate()`__\n",
    "* because dicts are now ordered (Python 3.6+), __`enumerate()`__ is somewhat useful"
   ]
  },
  {
   "cell_type": "code",
   "execution_count": 264,
   "metadata": {},
   "outputs": [
    {
     "name": "stdout",
     "output_type": "stream",
     "text": [
      "index 0 is trenta\n",
      "index 1 is grande\n",
      "index 2 is venti\n",
      "index 3 is tall\n"
     ]
    }
   ],
   "source": [
    "for index, val in enumerate(mydict):\n",
    "    print('index', index, 'is', val)"
   ]
  },
  {
   "cell_type": "code",
   "execution_count": 265,
   "metadata": {},
   "outputs": [
    {
     "name": "stdout",
     "output_type": "stream",
     "text": [
      "trenta => 31\n",
      "grande => 16\n",
      "venti => 20\n",
      "tall => 12\n"
     ]
    }
   ],
   "source": [
    "# We can iterate through the dict items, but remember that dict\n",
    "# is insertion ordered\n",
    "for key, val in mydict.items():\n",
    "    print(key, '=>', val)"
   ]
  },
  {
   "cell_type": "code",
   "execution_count": 266,
   "metadata": {},
   "outputs": [
    {
     "name": "stdout",
     "output_type": "stream",
     "text": [
      "tall => 12\n",
      "grande => 16\n",
      "venti => 20\n",
      "trenta => 31\n"
     ]
    }
   ],
   "source": [
    "# In order to iterate in another order, we have to sort the\n",
    "# dict by value (as opposed to key)\n",
    "# By default, sorted() will sort by key--\n",
    "# usually not what we want!\n",
    "\n",
    "for k in sorted(mydict, key=mydict.get):\n",
    "    print(k, '=>', mydict[k])"
   ]
  },
  {
   "cell_type": "markdown",
   "metadata": {
    "slideshow": {
     "slide_type": "subslide"
    }
   },
   "source": [
    "### __`get()`__/__`setdefault()`__: Dealing with missing dict values"
   ]
  },
  {
   "cell_type": "code",
   "execution_count": 267,
   "metadata": {},
   "outputs": [],
   "source": [
    "d = {'foo': 'bar'}"
   ]
  },
  {
   "cell_type": "code",
   "execution_count": 268,
   "metadata": {},
   "outputs": [
    {
     "data": {
      "text/plain": [
       "'bar'"
      ]
     },
     "execution_count": 268,
     "metadata": {},
     "output_type": "execute_result"
    }
   ],
   "source": [
    "d['foo']"
   ]
  },
  {
   "cell_type": "code",
   "execution_count": 269,
   "metadata": {},
   "outputs": [
    {
     "ename": "KeyError",
     "evalue": "'foot'",
     "output_type": "error",
     "traceback": [
      "\u001b[0;31m---------------------------------------------------------------------------\u001b[0m",
      "\u001b[0;31mKeyError\u001b[0m                                  Traceback (most recent call last)",
      "\u001b[0;32m<ipython-input-269-04add641cd15>\u001b[0m in \u001b[0;36m<module>\u001b[0;34m\u001b[0m\n\u001b[0;32m----> 1\u001b[0;31m \u001b[0md\u001b[0m\u001b[0;34m[\u001b[0m\u001b[0;34m'foot'\u001b[0m\u001b[0;34m]\u001b[0m\u001b[0;34m\u001b[0m\u001b[0;34m\u001b[0m\u001b[0m\n\u001b[0m",
      "\u001b[0;31mKeyError\u001b[0m: 'foot'"
     ]
    }
   ],
   "source": [
    "d['foot']"
   ]
  },
  {
   "cell_type": "code",
   "execution_count": 270,
   "metadata": {},
   "outputs": [
    {
     "name": "stdout",
     "output_type": "stream",
     "text": [
      "None\n"
     ]
    }
   ],
   "source": [
    "print(d.get('foot'))"
   ]
  },
  {
   "cell_type": "code",
   "execution_count": 272,
   "metadata": {},
   "outputs": [
    {
     "data": {
      "text/plain": [
       "NoneType"
      ]
     },
     "execution_count": 272,
     "metadata": {},
     "output_type": "execute_result"
    }
   ],
   "source": [
    "type (d.get('foot'))"
   ]
  },
  {
   "cell_type": "code",
   "execution_count": 273,
   "metadata": {},
   "outputs": [],
   "source": [
    "if 'foot' in d:\n",
    "    print(d['foot'])\n",
    "# or just... d.get('foot')"
   ]
  },
  {
   "cell_type": "code",
   "execution_count": 274,
   "metadata": {},
   "outputs": [
    {
     "data": {
      "text/plain": [
       "'bar'"
      ]
     },
     "execution_count": 274,
     "metadata": {},
     "output_type": "execute_result"
    }
   ],
   "source": [
    "d.setdefault('foo', 23) # get the value of 'foo' or add 'foo' \n",
    "# to dict with value = 23\n",
    "#if 'foo' in d:\n",
    "    #val = d['foo']\n",
    "#else:\n",
    "    #d['foo'] = 23\n",
    "    #val = 23"
   ]
  },
  {
   "cell_type": "code",
   "execution_count": 275,
   "metadata": {},
   "outputs": [
    {
     "data": {
      "text/plain": [
       "{'foo': 'bar'}"
      ]
     },
     "execution_count": 275,
     "metadata": {},
     "output_type": "execute_result"
    }
   ],
   "source": [
    "d"
   ]
  },
  {
   "cell_type": "code",
   "execution_count": 276,
   "metadata": {},
   "outputs": [
    {
     "name": "stdout",
     "output_type": "stream",
     "text": [
      "23\n",
      "{'foo': 'bar', 'foot': 23}\n"
     ]
    }
   ],
   "source": [
    "print(d.setdefault('foot', 23))\n",
    "print(d)"
   ]
  },
  {
   "cell_type": "markdown",
   "metadata": {
    "slideshow": {
     "slide_type": "subslide"
    }
   },
   "source": [
    "### Removing items from a dict\n",
    "* __`del`__ = remove an item from the dict\n",
    "* __`dict.pop(key)`__ = remove item and return value\n",
    "* __`dict.clear()`__ = empty out the dict"
   ]
  },
  {
   "cell_type": "code",
   "execution_count": 277,
   "metadata": {},
   "outputs": [
    {
     "name": "stdout",
     "output_type": "stream",
     "text": [
      "{'trenta': 31, 'grande': 16, 'venti': 20, 'tall': 12}\n"
     ]
    }
   ],
   "source": [
    "mydict = {'trenta': 31, 'grande': 16, 'venti': 20,\n",
    "          'tall': 12}\n",
    "print(mydict)"
   ]
  },
  {
   "cell_type": "code",
   "execution_count": 278,
   "metadata": {},
   "outputs": [
    {
     "name": "stdout",
     "output_type": "stream",
     "text": [
      "{'grande': 16, 'venti': 20, 'tall': 12}\n"
     ]
    }
   ],
   "source": [
    "del mydict['trenta']\n",
    "print(mydict)"
   ]
  },
  {
   "cell_type": "code",
   "execution_count": 279,
   "metadata": {},
   "outputs": [
    {
     "name": "stdout",
     "output_type": "stream",
     "text": [
      "20\n"
     ]
    }
   ],
   "source": [
    "print(mydict.pop('venti'))"
   ]
  },
  {
   "cell_type": "code",
   "execution_count": null,
   "metadata": {},
   "outputs": [],
   "source": [
    "print(mydict)"
   ]
  },
  {
   "cell_type": "code",
   "execution_count": null,
   "metadata": {},
   "outputs": [],
   "source": [
    "mydict.clear()\n",
    "mydict"
   ]
  },
  {
   "cell_type": "markdown",
   "metadata": {
    "slideshow": {
     "slide_type": "subslide"
    }
   },
   "source": [
    "## Lab: Roman Numerals (reversed)\n",
    "* Use a dict to translate Arabic values back into Roman numerals\n",
    "1. Load the dict with Roman numerals M (1000), D (500), C (100), L (50), X (10), V (5), I (1) - decide which should be the key and which the value!\n",
    "1. Read in a regular (Arabic) integer\n",
    "1. Print Roman numeral equivalent\n",
    "1. Try it with 1160 => MCLX = 1000 + 100 + 50 + 10\n",
    "1. __If you have time, deal with the case where a smaller number precedes a larger number, e.g., XC = 100 - 10 = 90, or MCM = 1000 + (1000-100) = 1900__\n",
    "1. __MCMXCIX = 1999__"
   ]
  },
  {
   "cell_type": "code",
   "execution_count": 489,
   "metadata": {},
   "outputs": [
    {
     "name": "stdout",
     "output_type": "stream",
     "text": [
      "-->current :1 Total : 0\n",
      "-->current :1 Total : 1\n",
      "-->current :1 Total : 2\n",
      "-->current :1 Total : 3\n",
      "-->current :1 Total : 4\n",
      "-->current :1 Total : 5\n",
      "-->current :5 Total : 6\n",
      "VIIIIII ==> 11\n"
     ]
    }
   ],
   "source": [
    "roman2dec = {\"M\":1000, \"D\": 500, \"C\": 100, \"L\":50 , \"X\": 10, \"V\" : 5, \"I\": 1 }\n",
    "#ara_val= input (\"enter an Arabic values to convert to Roman numerals\")\n",
    "\n",
    "araval=\"VIIIIII\"\n",
    "num=0  #current sum\n",
    "old=1  #last value from the for loop\n",
    "for val in reversed(araval):\n",
    "    temp= roman2dec[val]\n",
    "    print (\"-->current :\"+str(temp), \"Total : \"+str(num))\n",
    "    if temp == (old/10):\n",
    "        num = num-temp\n",
    "        old = temp\n",
    "    elif temp >= old:\n",
    "        num += temp\n",
    "        old= temp\n",
    "    else:\n",
    "        old=0\n",
    "        break\n",
    "    \n",
    "if old == 0:\n",
    "    print (\"error in your entry   :  \", araval)\n",
    "else:\n",
    "    print (araval ,\"==>\", num )"
   ]
  },
  {
   "cell_type": "code",
   "execution_count": null,
   "metadata": {},
   "outputs": [],
   "source": [
    "roman2dec = {\"M\":1000, \"D\": 500, \"C\": 100, \"L\":50 , \"X\": 10, \"V\" : 5, \"I\": 1 }\n",
    "#ara_val= input (\"enter an Arabic values to convert to Roman numerals\")\n",
    "\n",
    "araval=10\n",
    "numval=\"\"  #current sum\n",
    "old=1  #last value from the for loop\n",
    "\n",
    "for let,numb in  roman2dec:\n",
    "    div\n",
    "    if 4 <arval//numb > 1:\n",
    "        \n",
    "        \n",
    "\n",
    "\n",
    "\n",
    "for val in reversed(araval):\n",
    "    temp= roman2dec[val]\n",
    "    print (\"-->current :\"+str(temp), \"Total : \"+str(num))\n",
    "    if temp == (old/10):\n",
    "        num = num-temp\n",
    "        old = temp\n",
    "    elif temp >= old:\n",
    "        num += temp\n",
    "        old= temp\n",
    "    else:\n",
    "        old=0\n",
    "        break\n",
    "    \n",
    "if old == 0:\n",
    "    print (\"error in your entry   :  \", araval)\n",
    "else:\n",
    "    print (araval ,\"==>\", num )"
   ]
  },
  {
   "cell_type": "code",
   "execution_count": 326,
   "metadata": {},
   "outputs": [
    {
     "data": {
      "text/plain": [
       "0"
      ]
     },
     "execution_count": 326,
     "metadata": {},
     "output_type": "execute_result"
    }
   ],
   "source": [
    "old/10"
   ]
  },
  {
   "cell_type": "markdown",
   "metadata": {
    "slideshow": {
     "slide_type": "subslide"
    }
   },
   "source": [
    "## Dict Comprehension\n",
    "* like a listcomp, a dictcomp creates a dict quickly"
   ]
  },
  {
   "cell_type": "code",
   "execution_count": 353,
   "metadata": {},
   "outputs": [
    {
     "name": "stdout",
     "output_type": "stream",
     "text": [
      "{'Sally': 1345, 'Bob': 1286, 'Martha': 1453, 'Dirk': 1119}\n"
     ]
    }
   ],
   "source": [
    "names = ['Sally', 'Bob', 'Martha', 'Dirk']\n",
    "employee_ids = [345, 286, 453, 119]\n",
    "id_dict = { name: emp_id + 1000\n",
    "                   for name, emp_id in zip(names,\n",
    "                                employee_ids)}\n",
    "print(id_dict)"
   ]
  },
  {
   "cell_type": "code",
   "execution_count": 355,
   "metadata": {},
   "outputs": [
    {
     "name": "stdout",
     "output_type": "stream",
     "text": [
      "{'foo': 4, 'bar': -1, 'baz': -1, 'blah': 3, 'what': 2}\n"
     ]
    }
   ],
   "source": [
    "d = { 'foo': 4, 'bar': -1, 'baz': -1, 'blah': 3, 'what': 2 }\n",
    "print(d)"
   ]
  },
  {
   "cell_type": "code",
   "execution_count": 356,
   "metadata": {},
   "outputs": [
    {
     "name": "stdout",
     "output_type": "stream",
     "text": [
      "{'foo': 4, 'blah': 3, 'what': 2}\n"
     ]
    }
   ],
   "source": [
    "d = { k: v for k, v in d.items()\n",
    "               if v != -1 }\n",
    "print(d)"
   ]
  },
  {
   "cell_type": "markdown",
   "metadata": {},
   "source": [
    "## More File I/O"
   ]
  },
  {
   "cell_type": "markdown",
   "metadata": {
    "slideshow": {
     "slide_type": "subslide"
    }
   },
   "source": [
    "### The `open()` builtin function\n",
    "* __`fileobj = open(filename, mode)`__\n",
    "* mode is one or two letters\n",
    "  * r = read\n",
    "  * r+ = open for reading and writing\n",
    "  * w = write (create/overwrite)\n",
    "  * x = write, but only if file does not already exist\n",
    "  * a = append, if file exists (unless a+, then create)\n",
    "* second letter =\n",
    "  * t = text file (default)\n",
    "  * b = binary\n",
    "* __`fileobj.close()`__"
   ]
  },
  {
   "cell_type": "markdown",
   "metadata": {
    "slideshow": {
     "slide_type": "subslide"
    }
   },
   "source": [
    "### File I/O: Open/Close"
   ]
  },
  {
   "cell_type": "code",
   "execution_count": 357,
   "metadata": {},
   "outputs": [
    {
     "ename": "FileNotFoundError",
     "evalue": "[Errno 2] No such file or directory: '/tmp/test.txt'",
     "output_type": "error",
     "traceback": [
      "\u001b[0;31m---------------------------------------------------------------------------\u001b[0m",
      "\u001b[0;31mFileNotFoundError\u001b[0m                         Traceback (most recent call last)",
      "\u001b[0;32m<ipython-input-357-59df3776fa79>\u001b[0m in \u001b[0;36m<module>\u001b[0;34m\u001b[0m\n\u001b[0;32m----> 1\u001b[0;31m \u001b[0mf\u001b[0m \u001b[0;34m=\u001b[0m \u001b[0mopen\u001b[0m\u001b[0;34m(\u001b[0m\u001b[0;34m'/tmp/test.txt'\u001b[0m\u001b[0;34m,\u001b[0m \u001b[0;34m'r'\u001b[0m\u001b[0;34m)\u001b[0m\u001b[0;34m\u001b[0m\u001b[0;34m\u001b[0m\u001b[0m\n\u001b[0m",
      "\u001b[0;31mFileNotFoundError\u001b[0m: [Errno 2] No such file or directory: '/tmp/test.txt'"
     ]
    }
   ],
   "source": [
    "f = open('/tmp/test.txt', 'r')"
   ]
  },
  {
   "cell_type": "code",
   "execution_count": 358,
   "metadata": {},
   "outputs": [],
   "source": [
    "f = open('/tmp/test.txt', 'w')\n",
    "f.close()"
   ]
  },
  {
   "cell_type": "code",
   "execution_count": 359,
   "metadata": {},
   "outputs": [
    {
     "ename": "FileExistsError",
     "evalue": "[Errno 17] File exists: '/tmp/test.txt'",
     "output_type": "error",
     "traceback": [
      "\u001b[0;31m---------------------------------------------------------------------------\u001b[0m",
      "\u001b[0;31mFileExistsError\u001b[0m                           Traceback (most recent call last)",
      "\u001b[0;32m<ipython-input-359-453dff31adda>\u001b[0m in \u001b[0;36m<module>\u001b[0;34m\u001b[0m\n\u001b[0;32m----> 1\u001b[0;31m \u001b[0mf\u001b[0m \u001b[0;34m=\u001b[0m \u001b[0mopen\u001b[0m\u001b[0;34m(\u001b[0m\u001b[0;34m'/tmp/test.txt'\u001b[0m\u001b[0;34m,\u001b[0m \u001b[0;34m'x'\u001b[0m\u001b[0;34m)\u001b[0m\u001b[0;34m\u001b[0m\u001b[0;34m\u001b[0m\u001b[0m\n\u001b[0m",
      "\u001b[0;31mFileExistsError\u001b[0m: [Errno 17] File exists: '/tmp/test.txt'"
     ]
    }
   ],
   "source": [
    "f = open('/tmp/test.txt', 'x')"
   ]
  },
  {
   "cell_type": "markdown",
   "metadata": {
    "slideshow": {
     "slide_type": "subslide"
    }
   },
   "source": [
    "### File I/O: Read/Write"
   ]
  },
  {
   "cell_type": "code",
   "execution_count": 360,
   "metadata": {},
   "outputs": [
    {
     "data": {
      "text/plain": [
       "729"
      ]
     },
     "execution_count": 360,
     "metadata": {},
     "output_type": "execute_result"
    }
   ],
   "source": [
    "poem = '''TWO roads diverged in a yellow wood,\n",
    "And sorry I could not travel both\n",
    "And be one traveler, long I stood\n",
    "And looked down one as far as I could\n",
    "To where it bent in the undergrowth;\n",
    "\n",
    "Then took the other, as just as fair,\n",
    "And having perhaps the better claim,\n",
    "Because it was grassy and wanted wear;\n",
    "Though as for that the passing there\n",
    "Had worn them really about the same,\n",
    "\n",
    "And both that morning equally lay\n",
    "In leaves no step had trodden black.\n",
    "Oh, I kept the first for another day!\n",
    "Yet knowing how way leads on to way,\n",
    "I doubted if I should ever come back.\n",
    "\n",
    "I shall be telling this with a sigh\n",
    "Somewhere ages and ages hence:\n",
    "Two roads diverged in a wood, and I—\n",
    "I took the one less traveled by,\n",
    "And that has made all the difference.'''\n",
    "\n",
    "len(poem)"
   ]
  },
  {
   "cell_type": "code",
   "execution_count": 361,
   "metadata": {},
   "outputs": [
    {
     "data": {
      "text/plain": [
       "729"
      ]
     },
     "execution_count": 361,
     "metadata": {},
     "output_type": "execute_result"
    }
   ],
   "source": [
    "f = open('/tmp/poem.txt', 'w')\n",
    "f.write(poem)"
   ]
  },
  {
   "cell_type": "code",
   "execution_count": 362,
   "metadata": {},
   "outputs": [],
   "source": [
    "f.close()"
   ]
  },
  {
   "cell_type": "code",
   "execution_count": 363,
   "metadata": {},
   "outputs": [],
   "source": [
    "f = open('/tmp/poem.txt', 'r')\n",
    "poem2 = f.read()\n",
    "f.close()"
   ]
  },
  {
   "cell_type": "code",
   "execution_count": 366,
   "metadata": {},
   "outputs": [
    {
     "data": {
      "text/plain": [
       "True"
      ]
     },
     "execution_count": 366,
     "metadata": {},
     "output_type": "execute_result"
    }
   ],
   "source": [
    "poem == poem2\n",
    "poem3 = poem\n",
    "poem is poem3"
   ]
  },
  {
   "cell_type": "markdown",
   "metadata": {
    "slideshow": {
     "slide_type": "subslide"
    }
   },
   "source": [
    "### File I/O: __`write()`__ vs. __`print()`__\n"
   ]
  },
  {
   "cell_type": "code",
   "execution_count": 369,
   "metadata": {},
   "outputs": [],
   "source": [
    "f = open('/tmp/poem3.txt', 'w')\n",
    "print(poem, file=f, end='')\n",
    "f.close()"
   ]
  },
  {
   "cell_type": "code",
   "execution_count": null,
   "metadata": {},
   "outputs": [],
   "source": [
    "f = open('/tmp/poem.txt', 'r')\n",
    "poem2 = f.read()\n",
    "f.close()"
   ]
  },
  {
   "cell_type": "code",
   "execution_count": null,
   "metadata": {},
   "outputs": [],
   "source": [
    "poem == poem2"
   ]
  },
  {
   "cell_type": "code",
   "execution_count": null,
   "metadata": {},
   "outputs": [],
   "source": [
    "len(poem2)"
   ]
  },
  {
   "cell_type": "markdown",
   "metadata": {
    "slideshow": {
     "slide_type": "subslide"
    }
   },
   "source": [
    "### __`print(*objects, sep=' ', end='\\n', file=sys.stdout, flush=False)`__\n",
    "* __`sep`__ = separator (default is space)\n",
    "* __`end`__ = what to print at end (default is newline)\n",
    "* __`file`__ = where to print, default is screen\n",
    "* __`flush`__ = whether to flush output buffer, default is no"
   ]
  },
  {
   "cell_type": "markdown",
   "metadata": {
    "slideshow": {
     "slide_type": "subslide"
    }
   },
   "source": [
    "### File I/O: How to Read Data\n",
    "* __`read()`__: slurps up entire file at once\n",
    "  * __`read(x)`__ reads a most __`x`__ bytes\n",
    "* __`readline()`__: reads a line at a time\n",
    "* __`readlines()`__ reads a line at a time and returns the lines as a list of strings\n",
    "* or use an iterator…"
   ]
  },
  {
   "cell_type": "code",
   "execution_count": null,
   "metadata": {},
   "outputs": [],
   "source": [
    "poem = ''\n",
    "f = open('/tmp/poem.txt', 'r')\n",
    "for line in f:\n",
    "    poem += line\n",
    "f.close()"
   ]
  },
  {
   "cell_type": "code",
   "execution_count": null,
   "metadata": {},
   "outputs": [],
   "source": [
    "len(poem)"
   ]
  },
  {
   "cell_type": "markdown",
   "metadata": {},
   "source": [
    "### Write methods parallel read methods\n",
    "* __`write(x)`__\n",
    "* __`writelines()`__\n"
   ]
  },
  {
   "cell_type": "markdown",
   "metadata": {
    "slideshow": {
     "slide_type": "subslide"
    }
   },
   "source": [
    "### File I/O: __`with`__ statement\n",
    "* The __`with`__ statement sets up a temporary \"context\" and closes the file automatically so we don't have to bother with closing it\n",
    "* Even works if the code inside the with throws an error"
   ]
  },
  {
   "cell_type": "code",
   "execution_count": null,
   "metadata": {
    "scrolled": true
   },
   "outputs": [],
   "source": [
    "with open('/tmp/poem.txt', 'r') as f1:\n",
    "    poem2 = f1.read()\n",
    "    # at this point file is open\n",
    "    print('in with, f1.closed =', f1.closed)"
   ]
  },
  {
   "cell_type": "code",
   "execution_count": null,
   "metadata": {},
   "outputs": [],
   "source": [
    "poem == poem2"
   ]
  },
  {
   "cell_type": "code",
   "execution_count": null,
   "metadata": {},
   "outputs": [],
   "source": [
    "f1.closed"
   ]
  },
  {
   "cell_type": "markdown",
   "metadata": {
    "slideshow": {
     "slide_type": "subslide"
    }
   },
   "source": [
    "## Lab: File I/O\n",
    "* write a Python program which prompts the user for a filename, then opens that file and writes the contents of the file to a new file, in reverse order, i.e.,\n",
    "\n",
    "<pre><b>\n",
    "    Original file       Reversed file\n",
    "    Line 1              Line 4\n",
    "    Line 2              Line 3\n",
    "    Line 3              Line 2\n",
    "    Line 4              Line 1\n",
    "</b></pre>"
   ]
  },
  {
   "cell_type": "code",
   "execution_count": 490,
   "metadata": {},
   "outputs": [
    {
     "name": "stdout",
     "output_type": "stream",
     "text": [
      "please enter the file name read and reverse :  test.txt\n",
      "Opening a file in : /tmp/test.txt\n",
      "Writing to file to ==> /tmp/reverse_test.txt\n"
     ]
    }
   ],
   "source": [
    "# read the file as text (str)\n",
    "name= input(\"please enter the file name read and reverse :  \")\n",
    "filename= \"/tmp/\"+name\n",
    "newfilename= \"/tmp/reverse_\"+name\n",
    "\n",
    "print (f\"Opening a file in : {filename}\")\n",
    "f = open(filename, 'r')\n",
    "newtext= f.read()\n",
    "f.close()\n",
    "    # writes the files in reverse or after turning in to a list\n",
    "    # using for loop to write one line at a time\n",
    "print (f\"Writing the file to ==> {newfilename}\")\n",
    "f = open(newfilename, 'w')\n",
    "for line1 in reversed(newtext.split(\"\\n\")):\n",
    "    f.write(line1+\"\\n\")\n",
    "f.close()\n",
    "\n"
   ]
  },
  {
   "cell_type": "markdown",
   "metadata": {
    "slideshow": {
     "slide_type": "subslide"
    }
   },
   "source": [
    "## Lab: File I/O + dicts\n",
    "* write a Python program to read a file and count the number of occurrences of each word in the file\n",
    "* use a dict, indexed by word, to count the occurrences\n",
    "* remember __`d.get(key)`__ will return __`None`__ if there is no such key in the dict (vs. __`d[key]`__ which will throw an exception) and also the __`in`__ operator\n",
    "* treat __The__ and __the__ as the same word when counting\n",
    "* print out words and counts, from most common to least common\n",
    "* EXTRA: remove punctuation, so __Hamlet,__ == __Hamlet__\n",
    "* Road Not Taken and Hamlet are in your materials"
   ]
  },
  {
   "cell_type": "code",
   "execution_count": 474,
   "metadata": {},
   "outputs": [
    {
     "name": "stdout",
     "output_type": "stream",
     "text": [
      "please enter the file name read and do word count of each words :  test.txt\n",
      "Opening a file in : /tmp/test.txt\n",
      "{'line6', 'line2', 'line3', 'line1', 'is', 'line5', 'This', 'line4'}\n",
      "This   -- 6\n",
      "is   -- 12\n",
      "line1   -- 1\n",
      "line2   -- 1\n",
      "line3   -- 1\n",
      "line4   -- 1\n",
      "line5   -- 1\n",
      "line6   -- 1\n"
     ]
    }
   ],
   "source": [
    "# read the file as text (str)\n",
    "name= input(\"please enter the file name read and do word count of each words :  \")\n",
    "filename= \"/tmp/\"+name\n",
    "words=set()\n",
    "#newfilename= \"/tmp/reverse_\"+name\n",
    "\n",
    "print (f\"Opening a file in : {filename}\")\n",
    "f = open(filename, 'r')\n",
    "newtext= f.read()\n",
    "f.close()\n",
    "\n",
    "newset = (newtext.split(\"\\n\"))\n",
    "for line in newset:\n",
    "    word= (line.split(\" \"))\n",
    "    for one in word:\n",
    "        words.add(one)\n",
    "\n",
    "words.remove(\"\")\n",
    "print (words)\n",
    "for rpt in sorted(words):\n",
    "    \n",
    "    print (rpt,\"  --\", newtext.count(rpt))"
   ]
  },
  {
   "cell_type": "code",
   "execution_count": 475,
   "metadata": {},
   "outputs": [
    {
     "data": {
      "text/plain": [
       "'line6'"
      ]
     },
     "execution_count": 475,
     "metadata": {},
     "output_type": "execute_result"
    }
   ],
   "source": [
    "for rpt in sorted(words):\n",
    "    check ="
   ]
  },
  {
   "cell_type": "code",
   "execution_count": 454,
   "metadata": {},
   "outputs": [
    {
     "data": {
      "text/plain": [
       "'This is line1\\nThis is line2\\nThis is line3\\nThis is line4\\nThis is line5\\nThis is line6\\n'"
      ]
     },
     "execution_count": 454,
     "metadata": {},
     "output_type": "execute_result"
    }
   ],
   "source": [
    "newtext"
   ]
  },
  {
   "cell_type": "markdown",
   "metadata": {
    "slideshow": {
     "slide_type": "subslide"
    }
   },
   "source": [
    "### File I/O: recap\n",
    "* __`open()`__ returns file object\n",
    "* __`close()`__ closes the file\n",
    "* __`read()`__ reads bytes\n",
    "* __`readline()`__ reads a line at a time\n",
    "* __`readlines()`__ reads all lines–shouldn't be used for large files\n",
    "* can also iterate through a file object a line at a time\n",
    "* __`with`__ statement sets up a temporary context (block) for file I/O and automatically closes file when block is exited"
   ]
  },
  {
   "cell_type": "markdown",
   "metadata": {
    "slideshow": {
     "slide_type": "slide"
    }
   },
   "source": [
    "## More Functions"
   ]
  },
  {
   "cell_type": "markdown",
   "metadata": {},
   "source": [
    "### Quick Review\n",
    "* __`def`__ introduces a function, followed by function name, parenthesized list of args and then a colon\n",
    "* body of function is indented"
   ]
  },
  {
   "cell_type": "code",
   "execution_count": 410,
   "metadata": {},
   "outputs": [],
   "source": [
    "# a \"do nothing\" function\n",
    "def noop():\n",
    "    pass"
   ]
  },
  {
   "cell_type": "code",
   "execution_count": 411,
   "metadata": {},
   "outputs": [],
   "source": [
    "noop()"
   ]
  },
  {
   "cell_type": "code",
   "execution_count": 412,
   "metadata": {},
   "outputs": [
    {
     "ename": "TypeError",
     "evalue": "noop() takes 0 positional arguments but 1 was given",
     "output_type": "error",
     "traceback": [
      "\u001b[0;31m---------------------------------------------------------------------------\u001b[0m",
      "\u001b[0;31mTypeError\u001b[0m                                 Traceback (most recent call last)",
      "\u001b[0;32m<ipython-input-412-f866be9c6aa6>\u001b[0m in \u001b[0;36m<module>\u001b[0;34m\u001b[0m\n\u001b[0;32m----> 1\u001b[0;31m \u001b[0mnoop\u001b[0m\u001b[0;34m(\u001b[0m\u001b[0;36m1\u001b[0m\u001b[0;34m)\u001b[0m\u001b[0;34m\u001b[0m\u001b[0;34m\u001b[0m\u001b[0m\n\u001b[0m",
      "\u001b[0;31mTypeError\u001b[0m: noop() takes 0 positional arguments but 1 was given"
     ]
    }
   ],
   "source": [
    "noop(1)"
   ]
  },
  {
   "cell_type": "code",
   "execution_count": 432,
   "metadata": {
    "slideshow": {
     "slide_type": "subslide"
    }
   },
   "outputs": [],
   "source": [
    "def rounder25(amount):\n",
    "    \"\"\"\n",
    "    Return amount rounded UP to nearest\n",
    "    quarter dollar.\n",
    "        ...$1.89 becomes $2.00\n",
    "        ...but $1.00/$1.25/$1.75/etc.\n",
    "           remain unchanged\n",
    "    \"\"\"\n",
    "    dollars = int(amount)\n",
    "    cents = round((amount - dollars) * 100)\n",
    "    quarters = cents // 25\n",
    "    if cents % 25:\n",
    "        quarters += 1\n",
    "    amount = dollars + 0.25 * quarters\n",
    "\n",
    "    return amount"
   ]
  },
  {
   "cell_type": "markdown",
   "metadata": {
    "slideshow": {
     "slide_type": "subslide"
    }
   },
   "source": [
    "### Functions (cont'd)\n",
    "* __`help(func)`__ prints out formatted docstring\n",
    "* **`func.__doc__`** prints out raw docstring"
   ]
  },
  {
   "cell_type": "code",
   "execution_count": 433,
   "metadata": {},
   "outputs": [
    {
     "name": "stdout",
     "output_type": "stream",
     "text": [
      "Help on function rounder25 in module __main__:\n",
      "\n",
      "rounder25(amount)\n",
      "    Return amount rounded UP to nearest\n",
      "    quarter dollar.\n",
      "        ...$1.89 becomes $2.00\n",
      "        ...but $1.00/$1.25/$1.75/etc.\n",
      "           remain unchanged\n",
      "\n"
     ]
    }
   ],
   "source": [
    "help(rounder25)"
   ]
  },
  {
   "cell_type": "code",
   "execution_count": 434,
   "metadata": {},
   "outputs": [
    {
     "data": {
      "text/plain": [
       "'\\n    Return amount rounded UP to nearest\\n    quarter dollar.\\n        ...$1.89 becomes $2.00\\n        ...but $1.00/$1.25/$1.75/etc.\\n           remain unchanged\\n    '"
      ]
     },
     "execution_count": 434,
     "metadata": {},
     "output_type": "execute_result"
    }
   ],
   "source": [
    "rounder25.__doc__"
   ]
  },
  {
   "cell_type": "markdown",
   "metadata": {
    "slideshow": {
     "slide_type": "subslide"
    }
   },
   "source": [
    "### Functions (cont'd)\n",
    "* if a function doesn’t call return explicitly, the special value __`None`__ is returned\n",
    "* __`None`__ is like __`NULL`__ in other languages\n",
    "* ...but not the same as __`False`__"
   ]
  },
  {
   "cell_type": "code",
   "execution_count": 435,
   "metadata": {},
   "outputs": [
    {
     "name": "stdout",
     "output_type": "stream",
     "text": [
      "None\n"
     ]
    }
   ],
   "source": [
    "retval = noop()\n",
    "print(retval)"
   ]
  },
  {
   "cell_type": "code",
   "execution_count": 436,
   "metadata": {},
   "outputs": [
    {
     "name": "stdout",
     "output_type": "stream",
     "text": [
      "nothing\n"
     ]
    }
   ],
   "source": [
    "# None is like False...\n",
    "if retval:\n",
    "    print('something')\n",
    "else:\n",
    "    print('nothing')"
   ]
  },
  {
   "cell_type": "code",
   "execution_count": 437,
   "metadata": {},
   "outputs": [
    {
     "name": "stdout",
     "output_type": "stream",
     "text": [
      "None\n"
     ]
    }
   ],
   "source": [
    "# ...but it's not equal to False\n",
    "if retval is True:\n",
    "    print('True')\n",
    "elif retval is False:\n",
    "    print('False')\n",
    "elif retval is None:\n",
    "    print('None')"
   ]
  },
  {
   "cell_type": "code",
   "execution_count": 438,
   "metadata": {
    "scrolled": true
   },
   "outputs": [
    {
     "data": {
      "text/plain": [
       "(140299369143264, 140299369143232, 140299369114256, 140299369114256)"
      ]
     },
     "execution_count": 438,
     "metadata": {},
     "output_type": "execute_result"
    }
   ],
   "source": [
    "id(True), id(False), id(None), id(retval)"
   ]
  },
  {
   "cell_type": "markdown",
   "metadata": {
    "slideshow": {
     "slide_type": "subslide"
    }
   },
   "source": [
    "## Functions: positional arguments\n",
    "* arguments are passed to functions in order written\n",
    "* downside: you must remember meaning of each position"
   ]
  },
  {
   "cell_type": "code",
   "execution_count": 439,
   "metadata": {},
   "outputs": [],
   "source": [
    "def menu(wine, entree, dessert):\n",
    "    return { 'wine': wine, 'entree': entree, \n",
    "            'dessert': dessert }"
   ]
  },
  {
   "cell_type": "markdown",
   "metadata": {},
   "source": [
    "![alt-text](images/IDE.png \"IDE\")\n",
    "* outside an IDE, it can be difficult to remember\n",
    "* if you pass args in wrong order, bad things can happen!"
   ]
  },
  {
   "cell_type": "code",
   "execution_count": 440,
   "metadata": {},
   "outputs": [
    {
     "data": {
      "text/plain": [
       "{'wine': 'chianti', 'entree': 'tartuffo', 'dessert': 'polenta'}"
      ]
     },
     "execution_count": 440,
     "metadata": {},
     "output_type": "execute_result"
    }
   ],
   "source": [
    "menu('chianti', 'tartuffo', 'polenta')"
   ]
  },
  {
   "cell_type": "code",
   "execution_count": 459,
   "metadata": {},
   "outputs": [
    {
     "name": "stdout",
     "output_type": "stream",
     "text": [
      "{'wine': 'ice', 'entree': 'meat', 'dessert': 'red'}\n"
     ]
    }
   ],
   "source": [
    "d= menu('ice', 'meat','red')\n",
    "print (d)"
   ]
  },
  {
   "cell_type": "markdown",
   "metadata": {
    "slideshow": {
     "slide_type": "subslide"
    }
   },
   "source": [
    "## Functions: keyword arguments\n",
    "* you may specify arguments by name, in any order\n",
    "* once you specify a keyword argument, all arguments following it must be keyword arguments"
   ]
  },
  {
   "cell_type": "code",
   "execution_count": null,
   "metadata": {},
   "outputs": [],
   "source": []
  },
  {
   "cell_type": "code",
   "execution_count": 460,
   "metadata": {},
   "outputs": [
    {
     "data": {
      "text/plain": [
       "{'wine': 'chianti', 'entree': 'polenta', 'dessert': 'tartufo'}"
      ]
     },
     "execution_count": 460,
     "metadata": {},
     "output_type": "execute_result"
    }
   ],
   "source": [
    "# passing some arguments by keyword\n",
    "menu('chianti', dessert='tartufo', entree='polenta')"
   ]
  },
  {
   "cell_type": "code",
   "execution_count": 461,
   "metadata": {},
   "outputs": [
    {
     "ename": "SyntaxError",
     "evalue": "positional argument follows keyword argument (<ipython-input-461-10da071657ab>, line 2)",
     "output_type": "error",
     "traceback": [
      "\u001b[0;36m  File \u001b[0;32m\"<ipython-input-461-10da071657ab>\"\u001b[0;36m, line \u001b[0;32m2\u001b[0m\n\u001b[0;31m    menu('chianti', dessert='tartufo', 'polenta')\u001b[0m\n\u001b[0m                                      ^\u001b[0m\n\u001b[0;31mSyntaxError\u001b[0m\u001b[0;31m:\u001b[0m positional argument follows keyword argument\n"
     ]
    }
   ],
   "source": [
    "# once you start passing arguments by keyword, the rest must be passed by keyword\n",
    "menu('chianti', dessert='tartufo', 'polenta')"
   ]
  },
  {
   "cell_type": "markdown",
   "metadata": {
    "slideshow": {
     "slide_type": "subslide"
    }
   },
   "source": [
    "## Functions: default arguments"
   ]
  },
  {
   "cell_type": "code",
   "execution_count": 462,
   "metadata": {},
   "outputs": [],
   "source": [
    "def menu(wine, entree, dessert='tartufo'):\n",
    "    return { 'wine': wine, 'entree': entree, 'dessert': dessert }"
   ]
  },
  {
   "cell_type": "code",
   "execution_count": 463,
   "metadata": {},
   "outputs": [
    {
     "data": {
      "text/plain": [
       "{'wine': 'chardonnay', 'entree': 'braised tofu', 'dessert': 'tartufo'}"
      ]
     },
     "execution_count": 463,
     "metadata": {},
     "output_type": "execute_result"
    }
   ],
   "source": [
    "menu('chardonnay', 'braised tofu')"
   ]
  },
  {
   "cell_type": "code",
   "execution_count": 464,
   "metadata": {},
   "outputs": [
    {
     "data": {
      "text/plain": [
       "{'wine': 'chardonnay', 'entree': 'fagioli', 'dessert': 'canoli'}"
      ]
     },
     "execution_count": 464,
     "metadata": {},
     "output_type": "execute_result"
    }
   ],
   "source": [
    "menu('chardonnay', dessert='canoli',\n",
    "     entree='fagioli')"
   ]
  },
  {
   "cell_type": "markdown",
   "metadata": {
    "slideshow": {
     "slide_type": "subslide"
    }
   },
   "source": [
    "## Lab: functions\n",
    "* Write a function __`calculate`__ which is passed two operands and an operator and returns the calculated result, e.g., __`calculate(2, 4, '+')`__ would return 6\n",
    "* Write a function which takes an integer as a parameter, and sums up its digits. If the resulting sum contains more than 1 digit, the function should sum the digits again, e.g., __`sumdigits(1235)`__ should compute the sum of 1, 2, 3, and 5 (11), then compute the sum of 1 and 1, returning 2.\n",
    "* Write a function which takes a number as a parameter and returns a string version of the number with commas representing thousands, e.g., __`add_commas(12345)`__ would return \"12,345\"\n",
    "* Write a function to demonstrate the Collatz Conjecture:\n",
    "  * for integer n > 1\n",
    "    * if n is even, then __`n = n // 2`__\n",
    "    * if n is odd, then __`n = n * 3 + 1`__\n",
    "  * ...will always converge to 1\n",
    "  * (your function should take n and keep printing new value of n until n is 1)"
   ]
  },
  {
   "cell_type": "code",
   "execution_count": 562,
   "metadata": {},
   "outputs": [
    {
     "name": "stdout",
     "output_type": "stream",
     "text": [
      "print (6**4)\n",
      "1296\n"
     ]
    }
   ],
   "source": [
    "def calculate(num1,num2,operate):\n",
    "    \"\"\"\n",
    "    The function calculates two operands and an operator and returns the calculated result\n",
    "    , e.g. calculate(2, 4, '+') would return 6\n",
    "    \"\"\"\n",
    "    oper =\"**%//+-*/\"    \n",
    "    if operate in oper:\n",
    "     \n",
    "        newops2=(\"print (\"+str(num1)+operate+str(num2)+\")\")\n",
    "        print (newops2)\n",
    "        exec(newops2)\n",
    "        \n",
    "        return \n",
    "    \n",
    "    else :\n",
    "        print (\"**operation not supported by this function\")\n",
    "\n",
    "calculate (6,4,\"**\")\n"
   ]
  },
  {
   "cell_type": "code",
   "execution_count": null,
   "metadata": {},
   "outputs": [],
   "source": [
    "5"
   ]
  },
  {
   "cell_type": "code",
   "execution_count": 522,
   "metadata": {},
   "outputs": [
    {
     "name": "stdout",
     "output_type": "stream",
     "text": [
      "result=4+2\n",
      "6\n"
     ]
    }
   ],
   "source": [
    "num1=4\n",
    "num2=2\n",
    "operate=\"+\"\n",
    "newops=(\"result=\"+str(num1)+operate+str(num2))\n",
    "print (newops)\n",
    "todo=exec(newops)\n",
    "print (result)\n"
   ]
  },
  {
   "cell_type": "markdown",
   "metadata": {},
   "source": [
    "## Functions: recap\n",
    "* Python encourages functions which support lots of arguments with default values\n",
    "* \"Explicit is better than implicit\"\n",
    "  * arguments can be passed out of order ONLY if they're passed by keyword\n",
    "  * keywords are more explicit than positions because the function call documents the purpose of its arguments\n",
    "* variable positional args (__`*args`__)\n",
    "* variable keyword args (__`**kwargs`__)"
   ]
  },
  {
   "cell_type": "markdown",
   "metadata": {
    "slideshow": {
     "slide_type": "subslide"
    }
   },
   "source": [
    "## Error Handling with Exceptions\n",
    "* errors detected during execution are called exceptions\n",
    "* exceptions are \"thrown\" and either \"caught\" by an exception handler, or propagated upward\n",
    "* \"…exceptions create hidden control-flow paths that are difficult for programmers to reason about\" –Weimer & Necula, \"Exceptional Situations and Program Reliability\"\n",
    "* ...but they are also Pythonic"
   ]
  },
  {
   "cell_type": "code",
   "execution_count": null,
   "metadata": {
    "slideshow": {
     "slide_type": "subslide"
    }
   },
   "outputs": [],
   "source": [
    "mylist = [1, 5, 10]\n",
    "mylist[1]"
   ]
  },
  {
   "cell_type": "code",
   "execution_count": null,
   "metadata": {},
   "outputs": [],
   "source": [
    "mylist[5]"
   ]
  },
  {
   "cell_type": "code",
   "execution_count": null,
   "metadata": {},
   "outputs": [],
   "source": [
    "int('13.1')"
   ]
  },
  {
   "cell_type": "markdown",
   "metadata": {
    "slideshow": {
     "slide_type": "subslide"
    }
   },
   "source": [
    "![alt-text](images/exceptions.png \"exceptions\")\n"
   ]
  },
  {
   "cell_type": "markdown",
   "metadata": {
    "slideshow": {
     "slide_type": "subslide"
    }
   },
   "source": [
    "## Exceptions: __`try/except`__\n",
    "* __`try`__ block wraps code which may throw an exception, and __`except`__ block catches exception"
   ]
  },
  {
   "cell_type": "code",
   "execution_count": null,
   "metadata": {
    "slideshow": {
     "slide_type": "subslide"
    }
   },
   "outputs": [],
   "source": [
    "try:\n",
    "    mylist[5] # could throw an IndexError\n",
    "except:\n",
    "    print('no element at offset 5')\n",
    "    \n",
    "print('rest of program')"
   ]
  },
  {
   "cell_type": "markdown",
   "metadata": {},
   "source": [
    "* problem? above example catches ALL exceptions, not just __`IndexError`__ we are expecting\n",
    "* best practice is to catch expected exceptions and let unexpected ones through, so as to avoid hidden errors"
   ]
  },
  {
   "cell_type": "code",
   "execution_count": null,
   "metadata": {
    "slideshow": {
     "slide_type": "subslide"
    }
   },
   "outputs": [],
   "source": [
    "try:\n",
    "    print(mylist[1])\n",
    "    int('a')\n",
    "except IndexError:\n",
    "    print('Bad index! Try again!')\n",
    "except Exception as uhoh:\n",
    "    print('Some other exception:',\n",
    "                          uhoh, type(uhoh))"
   ]
  },
  {
   "cell_type": "code",
   "execution_count": null,
   "metadata": {
    "slideshow": {
     "slide_type": "subslide"
    }
   },
   "outputs": [],
   "source": [
    "short_list = [1, 2, 3]\n",
    "\n",
    "while True:\n",
    "    value = input('Position [q to quit]? ')\n",
    "    if value == 'q':\n",
    "        break\n",
    "    try:\n",
    "        position = int(value)\n",
    "        print(short_list[position])\n",
    "    except IndexError:\n",
    "        print('Bad index:', value)\n",
    "    except ValueError:\n",
    "        print('Follow directions!')\n",
    "    except Exception as other:\n",
    "        print('Something else broke:', other)"
   ]
  },
  {
   "cell_type": "markdown",
   "metadata": {
    "slideshow": {
     "slide_type": "subslide"
    }
   },
   "source": [
    "## Lab: Exceptions\n",
    "* modify your calculate function to catch the __`ZeroDivisionError`__ exception and print an informative message if the user tries to divide by zero, e.g., \n",
    "![alt-text](images/calculate.png \"calculate\")"
   ]
  },
  {
   "cell_type": "markdown",
   "metadata": {
    "slideshow": {
     "slide_type": "subslide"
    }
   },
   "source": [
    "## __The `finally` Block__\n",
    "* code in the finally block will be executed whether or not an exception is thrown\n",
    "* good for cleanup code, closing files"
   ]
  },
  {
   "cell_type": "code",
   "execution_count": null,
   "metadata": {},
   "outputs": [],
   "source": [
    "def func():\n",
    "    try:\n",
    "        i = int(input('\\nEnter a number: '))\n",
    "        x = 1 / i\n",
    "    except ValueError:\n",
    "        print('Not a number!')\n",
    "    except ZeroDivisionError:\n",
    "        print('Cannot divide by 0')\n",
    "        return\n",
    "    else:\n",
    "        print('Everything OK')\n",
    "    finally:\n",
    "        print('FINALLY: DO this either way!')\n",
    "\n",
    "func(), func(), func()"
   ]
  },
  {
   "cell_type": "markdown",
   "metadata": {
    "slideshow": {
     "slide_type": "subslide"
    }
   },
   "source": [
    "## Lab: Exceptions\n",
    "* extend your calculator to allow 'log' as an operator\n",
    "  * the second argument is the base, i.e,. __`calculate(49.0, 7, 'log')`__ = __`log7(49.0)`__ = __`2.0`__\n",
    "  * remember that __`logb(x) = loga(x)/loga(b))`__\n",
    "  * for details see: https://docs.python.org/3/library/math.html#math.log\n",
    "* use a __`try/except/else`__ block around your code that computes the log"
   ]
  },
  {
   "cell_type": "code",
   "execution_count": null,
   "metadata": {},
   "outputs": [],
   "source": []
  },
  {
   "cell_type": "markdown",
   "metadata": {
    "slideshow": {
     "slide_type": "slide"
    }
   },
   "source": [
    "## Command-Line Arguments"
   ]
  },
  {
   "cell_type": "code",
   "execution_count": null,
   "metadata": {},
   "outputs": [],
   "source": [
    "%%bash\n",
    "# Processing command line args in a bash script\n",
    "echo \"The first arg is $1\"\n",
    "echo \"All of the args ($*)\"\n",
    "for arg in \"$*\"; do\n",
    "  echo $arg\n",
    "done"
   ]
  },
  {
   "cell_type": "code",
   "execution_count": null,
   "metadata": {
    "scrolled": false,
    "slideshow": {
     "slide_type": "subslide"
    }
   },
   "outputs": [],
   "source": [
    "# try this outside of Jupyter\n",
    "import sys\n",
    "print('Program arguments', sys.argv)"
   ]
  },
  {
   "cell_type": "code",
   "execution_count": null,
   "metadata": {},
   "outputs": [],
   "source": [
    "import sys\n",
    "for idx, arg in enumerate(sys.argv):\n",
    "    print(\"arg {0} is {1}\".format(idx, arg))"
   ]
  },
  {
   "cell_type": "markdown",
   "metadata": {
    "collapsed": true,
    "slideshow": {
     "slide_type": "subslide"
    }
   },
   "source": [
    "## Lab: Command-Line Arguments\n",
    "* turn your __`calculate()`__ function into a standalone program which takes 3 command line arguments and invokes __`calculate()`__ with those arguments"
   ]
  },
  {
   "cell_type": "code",
   "execution_count": null,
   "metadata": {},
   "outputs": [],
   "source": []
  },
  {
   "cell_type": "code",
   "execution_count": null,
   "metadata": {},
   "outputs": [],
   "source": [
    "# %run is a \"line magic\" that tells Jupyter to run\n",
    "# the rest of the line in bash via python3\n",
    "%run calculate_argv.py 5 2 /"
   ]
  },
  {
   "cell_type": "code",
   "execution_count": null,
   "metadata": {},
   "outputs": [],
   "source": [
    "# '!python3' is a synonym for %run\n",
    "!python3 calculate_argv.py 2 7 -"
   ]
  },
  {
   "cell_type": "markdown",
   "metadata": {
    "slideshow": {
     "slide_type": "slide"
    }
   },
   "source": [
    "# Modules\n",
    "* files of Python code which \"expose\" functions, data, and classes (we'll be working with classes shortly)"
   ]
  },
  {
   "cell_type": "code",
   "execution_count": null,
   "metadata": {},
   "outputs": [],
   "source": [
    "x = 5\n",
    "print(dir())"
   ]
  },
  {
   "cell_type": "code",
   "execution_count": null,
   "metadata": {},
   "outputs": [],
   "source": [
    "import os\n",
    "print(dir())"
   ]
  },
  {
   "cell_type": "code",
   "execution_count": null,
   "metadata": {},
   "outputs": [],
   "source": [
    "os.name"
   ]
  },
  {
   "cell_type": "code",
   "execution_count": null,
   "metadata": {},
   "outputs": [],
   "source": [
    "os.getlogin()"
   ]
  },
  {
   "cell_type": "code",
   "execution_count": null,
   "metadata": {},
   "outputs": [],
   "source": [
    "import os\n",
    "help(os.getlogin)\n",
    "dir(os)"
   ]
  },
  {
   "cell_type": "markdown",
   "metadata": {
    "slideshow": {
     "slide_type": "subslide"
    }
   },
   "source": [
    "## Two Ways to Import Modules\n",
    "* __`import module`__\n",
    "* __`from module import something`__\n",
    "  * __`from module import *`__\n",
    " \n",
    " \n",
    "* imported stuff can be renamed (they're really just variables!)\n",
    "```\n",
    "import numpy as np\n",
    "from sys import argv as foo\n",
    "```"
   ]
  },
  {
   "cell_type": "markdown",
   "metadata": {
    "slideshow": {
     "slide_type": "subslide"
    }
   },
   "source": [
    "## Modules: from vs. import"
   ]
  },
  {
   "cell_type": "code",
   "execution_count": null,
   "metadata": {},
   "outputs": [],
   "source": [
    "# This is a module\n",
    "# It lives in the file mymodule.py\n",
    "\n",
    "def dummy():\n",
    "    return 45\n",
    "\n",
    "def foo():\n",
    "    print('bar!')\n",
    "    return 1\n",
    "\n",
    "public_data = \"public stuff!\"\n",
    "# names that begin with _ are considered \"private\"\n",
    "_private_data = \"private stuff!\""
   ]
  },
  {
   "cell_type": "code",
   "execution_count": null,
   "metadata": {},
   "outputs": [],
   "source": [
    "# when we import using this syntax\n",
    "from mymodule import *"
   ]
  },
  {
   "cell_type": "code",
   "execution_count": null,
   "metadata": {},
   "outputs": [],
   "source": [
    "# ...all data is added to our \"namespace\" except for private data\n",
    "print(dir())"
   ]
  },
  {
   "cell_type": "code",
   "execution_count": null,
   "metadata": {},
   "outputs": [],
   "source": [
    "# ...but that's not the case if we use the other syntax\n",
    "import mymodule"
   ]
  },
  {
   "cell_type": "code",
   "execution_count": null,
   "metadata": {},
   "outputs": [],
   "source": [
    "print(dir())"
   ]
  },
  {
   "cell_type": "code",
   "execution_count": null,
   "metadata": {},
   "outputs": [],
   "source": [
    "mymodule.public_data"
   ]
  },
  {
   "cell_type": "code",
   "execution_count": null,
   "metadata": {},
   "outputs": [],
   "source": [
    "mymodule._private_data"
   ]
  },
  {
   "cell_type": "markdown",
   "metadata": {
    "slideshow": {
     "slide_type": "subslide"
    }
   },
   "source": [
    "## Lab: Modules\n",
    "1. create your own module, mymodule.py (or any name you choose) and import it from IDLE or the Python shell using both from and import syntax\n",
    " be sure you are understand how to access variables/data from your imported modules and the difference between from mymodule and import mymodule\n",
    "2. take your __`calculate.py`__ program and split it into two files: a module which contains the __`calculate`__ function, and a main program which imports the __`calculate`__ module "
   ]
  },
  {
   "cell_type": "code",
   "execution_count": null,
   "metadata": {},
   "outputs": [],
   "source": []
  },
  {
   "cell_type": "markdown",
   "metadata": {
    "slideshow": {
     "slide_type": "subslide"
    }
   },
   "source": [
    "## Modules: Recap\n",
    "* modules are just files of Python code\n",
    "* two ways to import: __`from module import stuff`__ and __`import module`__\n",
    "* don't use __`from module import *`__ except for testing\n",
    "* private data is not really private!\n",
    "* packages are directories containing one or more Python modules"
   ]
  },
  {
   "cell_type": "markdown",
   "metadata": {},
   "source": [
    "# Object-Oriented Programming/Classes\n",
    "### A very brief introduction"
   ]
  },
  {
   "cell_type": "markdown",
   "metadata": {},
   "source": [
    "## Classes\n",
    "* so far we've looked at built-in types; now we're going to define a new type\n",
    "* class = programmer-defined type"
   ]
  },
  {
   "cell_type": "code",
   "execution_count": null,
   "metadata": {},
   "outputs": [],
   "source": [
    "# simplest class/object we can create\n",
    "class Person(object):\n",
    "    pass"
   ]
  },
  {
   "cell_type": "code",
   "execution_count": null,
   "metadata": {},
   "outputs": [],
   "source": [
    "# to instantiate, or create and object, you call the class as\n",
    "# if were a function\n",
    "somebody = Person()"
   ]
  },
  {
   "cell_type": "code",
   "execution_count": null,
   "metadata": {},
   "outputs": [],
   "source": [
    "somebody # somebody is an instance of the Person class"
   ]
  },
  {
   "cell_type": "code",
   "execution_count": null,
   "metadata": {},
   "outputs": [],
   "source": [
    "type(somebody), type(3)"
   ]
  },
  {
   "cell_type": "code",
   "execution_count": null,
   "metadata": {},
   "outputs": [],
   "source": [
    "type(Person), type(int)"
   ]
  },
  {
   "cell_type": "code",
   "execution_count": null,
   "metadata": {},
   "outputs": [],
   "source": [
    "class BankAccount(object):\n",
    "    # __init__ is like a constructor\n",
    "    # it is used to initialize the object that is created\n",
    "    def __init__(self, name, initial_balance):\n",
    "        self.name = name\n",
    "        self.balance = initial_balance\n",
    "        print('in __init__')\n",
    "        \n",
    "    # all methods (with some exceptions) must have self as a first parameter...\n",
    "    # ...even though you don't pass self when you call the method (Python does)\n",
    "    def deposit(self, amount):\n",
    "        if amount > 0:\n",
    "            self.balance += amount\n",
    "            return self.balance\n",
    "        else:\n",
    "            print(\"can't deposit nonpositive amount!\")\n",
    "\n",
    "    def withdraw(self, amount):\n",
    "        if amount > 0:\n",
    "            if amount <= self.balance:\n",
    "                self.balance -= amount\n",
    "                return self.balance\n",
    "            else:\n",
    "                print(\"can't withdraw\", amount, \"or you would be overdrawn!\")\n",
    "        else:\n",
    "            print(\"can't withdraw nonpositive amount!\")\n"
   ]
  },
  {
   "cell_type": "code",
   "execution_count": null,
   "metadata": {},
   "outputs": [],
   "source": [
    "account1 = BankAccount('Marc Benioff', 345)"
   ]
  },
  {
   "cell_type": "code",
   "execution_count": null,
   "metadata": {},
   "outputs": [],
   "source": [
    "# what is account1?\n",
    "account1"
   ]
  },
  {
   "cell_type": "code",
   "execution_count": null,
   "metadata": {},
   "outputs": [],
   "source": [
    "# we can inspect attributes of our newly-created object\n",
    "print(account1.name, account1.balance)"
   ]
  },
  {
   "cell_type": "code",
   "execution_count": null,
   "metadata": {},
   "outputs": [],
   "source": [
    "# we can deposit money\n",
    "account1.deposit(25)"
   ]
  },
  {
   "cell_type": "code",
   "execution_count": null,
   "metadata": {},
   "outputs": [],
   "source": [
    "# we can withdraw money\n",
    "account1.withdraw(5)"
   ]
  },
  {
   "cell_type": "markdown",
   "metadata": {},
   "source": [
    "## Classes: \"magic\" methods\n",
    "* __\\_\\_init\\_\\___ is a special initialization method that is invoked when the object is instantiated\n",
    "* __\\_\\_str\\_\\___ returns a string representation of the object (i.e., for humans), maps to str() function\n",
    "* __\\_\\_repr\\_\\___ returns unambiguous representation of the object which could be fed to Python interpreter to recreate the object, maps to repr() function"
   ]
  },
  {
   "cell_type": "code",
   "execution_count": null,
   "metadata": {},
   "outputs": [],
   "source": [
    "import datetime\n",
    "today = datetime.datetime.now()\n",
    "str(today), repr(today)"
   ]
  },
  {
   "cell_type": "markdown",
   "metadata": {},
   "source": [
    "## Let's add `__repr__` and `__str__` to our class"
   ]
  },
  {
   "cell_type": "code",
   "execution_count": null,
   "metadata": {},
   "outputs": [],
   "source": [
    "class BankAccount(object):\n",
    "    def __init__(self, name, initial_balance):\n",
    "        self.name = name\n",
    "        self.balance = initial_balance\n",
    "\n",
    "    '''representation of the object \"feedable\" to Python\n",
    "    interpreter'''\n",
    "    def __repr__(self):\n",
    "        return self.__class__.__name__ + '(' + repr(self.name) \\\n",
    "               + ', ' + repr(self.balance) + ')'\n",
    "\n",
    "    '''string representation of object, for humans\n",
    "    __repr__ is used if __str__ does not exist'''\n",
    "    def __str__(self):\n",
    "        print('in the __str__() function')\n",
    "        return self.name + ' ' + str(self.balance)\n",
    "\n",
    "    def __add__(self, other):\n",
    "        return BankAccount(self.name + ' ' + other.name,\n",
    "                    self.balance + other.balance)\n",
    "    \n",
    "    def deposit(self, amount):\n",
    "        if amount > 0:\n",
    "            self.balance += amount\n",
    "            return self.balance\n",
    "        else:\n",
    "            print(\"can't deposit nonpositive amount!\")\n",
    "\n",
    "    def withdraw(self, amount):\n",
    "        if amount > 0:\n",
    "            if amount <= self.balance:\n",
    "                self.balance -= amount\n",
    "                return self.balance\n",
    "            else:\n",
    "                print(\"can't withdraw\", amount, \"or you would be overdrawn!\")\n",
    "        else:\n",
    "            print(\"can't withdraw nonpositive amount!\")"
   ]
  },
  {
   "cell_type": "code",
   "execution_count": null,
   "metadata": {},
   "outputs": [],
   "source": [
    "account2 = BankAccount('Gutzon Borglum', 100.0)\n",
    "account3 = BankAccount('Marie Curie', 200.0)"
   ]
  },
  {
   "cell_type": "code",
   "execution_count": null,
   "metadata": {},
   "outputs": [],
   "source": [
    "# try repr()\n",
    "repr(account2)\n",
    "account3 = BankAccount('Gutzon Borglum', 100.0)\n",
    "print(account3)"
   ]
  },
  {
   "cell_type": "code",
   "execution_count": null,
   "metadata": {},
   "outputs": [],
   "source": [
    "dir(account3)\n",
    "print(account3.__dict__)"
   ]
  },
  {
   "cell_type": "code",
   "execution_count": null,
   "metadata": {},
   "outputs": [],
   "source": [
    "# try str()\n",
    "account2.__str__()"
   ]
  },
  {
   "cell_type": "markdown",
   "metadata": {},
   "source": [
    "## Other \"magic\" methods\n",
    "* __\\_\\_add\\_\\___ = add two objects together\n",
    "* __\\_\\_eq\\_\\___ = implementation of ==\n",
    "* __\\_\\_ne\\_\\___ = implementation of !=\n",
    "* __\\_\\_len\\_\\___ = implementation of len() method\n",
    "* many others!"
   ]
  },
  {
   "cell_type": "markdown",
   "metadata": {
    "slideshow": {
     "slide_type": "subslide"
    }
   },
   "source": [
    "## Lab: Calculator Class\n",
    "* Create a class Calculator which acts like a calculator\n",
    "* Your class should have methods __`add()`__, __`sub()`__, __`mult()`__, __`div()`__, __`pow()`__, and __`log()`__, but you can add more if you wish\n",
    "* Each of the above methods (except __`log()`__) should take 1 or 2 arguments–for 1 argument, e.g., __`add(1)`__, your method should add to the running total. For 2 arguments, your method should act on those 2 arguments to create the new running total\n",
    "  * e.g., __`add(2, 4)`__ should produce 6, and then when followed by __`multiply(5)`__, it should produce 30\n",
    "* All calculations should be stored, and should be accessible to the caller via the __`showcalc()`__ method.\n",
    "* You should also have an __`ac()`__ \"all clear\" method which clears the running total and the list of calculations (i.e., __`showcalc()`__ should produce no output, or \"0.0\" when preceded by __`ac()`__)"
   ]
  },
  {
   "cell_type": "code",
   "execution_count": null,
   "metadata": {},
   "outputs": [],
   "source": []
  }
 ],
 "metadata": {
  "celltoolbar": "Slideshow",
  "kernelspec": {
   "display_name": "Python 3",
   "language": "python",
   "name": "python3"
  },
  "language_info": {
   "codemirror_mode": {
    "name": "ipython",
    "version": 3
   },
   "file_extension": ".py",
   "mimetype": "text/x-python",
   "name": "python",
   "nbconvert_exporter": "python",
   "pygments_lexer": "ipython3",
   "version": "3.7.10"
  }
 },
 "nbformat": 4,
 "nbformat_minor": 4
}
