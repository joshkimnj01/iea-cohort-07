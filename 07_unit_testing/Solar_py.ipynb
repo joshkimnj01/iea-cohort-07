{
 "cells": [
  {
   "cell_type": "code",
   "execution_count": 1,
   "metadata": {},
   "outputs": [
    {
     "name": "stdout",
     "output_type": "stream",
     "text": [
      "{'applicationId': 'ea70a803-e1e3-4cf5-b842-072b95ac54c9', 'applicationSecret': 'bf0a1c85026c6e0746ed234b24294b31918ad27785784c726247fd0828484b83a7aaa320ebae1a8f2a61b8891309575d3de09acbe391ddce4db54e453ceeb368cf4be7504c201d80b1ef95a2c7be700791ee87130ba39a482529139160871f7297ae39b7f306fcd01033debf78d9dbf2'}\n"
     ]
    }
   ],
   "source": [
    "#!/usr/bin/env python3\n",
    "import requests\n",
    "import datetime\n",
    "login= {\"applicationId\":\"ea70a803-e1e3-4cf5-b842-072b95ac54c9\",\n",
    "        \"applicationSecret\":\"bf0a1c85026c6e0746ed234b24294b31918ad27785784c726247fd0828484b83a7aa\"\\\n",
    "                     \"a320ebae1a8f2a61b8891309575d3de09acbe391ddce4db54e453ceeb368cf4be7504c201d80b1\"\\\n",
    "                     \"ef95a2c7be700791ee87130ba39a482529139160871f7297ae39b7f306fcd01033debf78d9dbf2\"}\n",
    "\n",
    "print (login)\n",
    "\n",
    "# User-Agent': 'Mozilla/5.0 (Windows NT 6.1) AppleWebKit/537.36 (KHTML, like Gecko) Chrome/41.0.2228.0 Safari/537.36',\n"
   ]
  },
  {
   "cell_type": "code",
   "execution_count": 6,
   "metadata": {
    "scrolled": true
   },
   "outputs": [],
   "source": [
    "#def get_observer_location():\n",
    "    \"\"\"Returns the longitude and latitude for the location of this machine.\n",
    "    Returns:\n",
    "    str: latitude\n",
    "    str: longitude\"\"\"\n",
    "\n",
    "    #mylocurl= 'https://api.ipify.org?format=json'\n",
    "    #myloc= requests.get(mylocurl)\n",
    "\n",
    "    #url= \"https://ip-api.com/json/\"+myloc.json()['ip']\n",
    "    url='http://ip-api.com/json/?fields=61439'\n",
    "\n",
    "    output= requests.get(url) #,headers = {'User-Agent': 'Mozilla/5.0 (Macintosh; Intel Mac OS X 10_11_5)\"\\\n",
    "                              #           \" AppleWebKit/537.36 (KHTML, like Gecko) Chrome/50.0.2661.102\"\\\n",
    "                              #           Safari/537.36',  'Accept': 'application/json'})\n",
    "\n",
    "    #if output.status_code== 200:\n",
    "    #    dict_obj = output.content\n",
    "\n",
    "    data=output.json()\n",
    "    outdata= data['lat'], data['lon'],data['query']\n",
    "\n",
    "    #print(outdata)\n",
    "        # NOTE: Replace with your real return values!\n",
    "    return outdata[0], outdata[1]\n",
    "\n"
   ]
  },
  {
   "cell_type": "code",
   "execution_count": 7,
   "metadata": {},
   "outputs": [
    {
     "data": {
      "text/plain": [
       "{'status': 'success',\n",
       " 'country': 'United States',\n",
       " 'countryCode': 'US',\n",
       " 'region': 'VA',\n",
       " 'regionName': 'Virginia',\n",
       " 'city': 'Ashburn',\n",
       " 'zip': '20149',\n",
       " 'lat': 39.0438,\n",
       " 'lon': -77.4874,\n",
       " 'timezone': 'America/New_York',\n",
       " 'isp': 'Amazon.com, Inc.',\n",
       " 'org': 'AWS EC2 (us-east-1)',\n",
       " 'as': 'AS14618 Amazon.com, Inc.',\n",
       " 'query': '34.203.89.92'}"
      ]
     },
     "execution_count": 7,
     "metadata": {},
     "output_type": "execute_result"
    }
   ],
   "source": [
    "data"
   ]
  },
  {
   "cell_type": "code",
   "execution_count": 144,
   "metadata": {},
   "outputs": [],
   "source": [
    "def get_sun_position(latitude, longitude):\n",
    "\"\"\"Returns the current position of the sun in the sky at the specified location\n",
    "Parameters:\n",
    "latitude (str)\n",
    "longitude (str)\n",
    "Returns:\n",
    "float: azimuth\n",
    "float: altitude\n",
    "\n",
    "\"\"\"\n",
    "    import  json\n",
    "    from requests.auth import HTTPBasicAuth\n",
    "    from datetime import timedelta\n",
    "\n",
    "    today = datetime.datetime.now()\n",
    "    now_date = str(today).split()[0]\n",
    "\n",
    "    #yesterday = today - timedelta(days = 1)\n",
    "    #yes_date=(str(yesterday).split())[0]\n",
    "    yesterday = today - timedelta(hours = 1)\n",
    "    yes_date=(str(yesterday).split())[0]\n",
    "    yes_time = str(yesterday).split()[1][0:8]\n",
    "\n",
    "\n",
    "    #url =\"https://api.astronomyapi.com/api/v2/bodies\"\n",
    "    url = \"https://api.astronomyapi.com/api/v2/bodies/positions/sun\"\n",
    "\n",
    "\n",
    "    querystring = {\"latitude\":data['lat'],\"longitude\":data['lon'],\"from_date\":yes_date,\n",
    "                   \"to_date\":now_date,\"elevation\":\"50\",\"time\":yes_time}\n",
    "\n",
    "    response = requests.request(\"GET\", url,  params=querystring,  auth=HTTPBasicAuth(login['applicationId'],login['applicationSecret']))\n",
    "\n",
    "    data_sun= json.loads(response.content)\n",
    "\n",
    "    sun_loc= data_sun['data']['table']['rows'][0]['cells'][0]['position']['horizonal']\n",
    "\n",
    "    sun_alt=float(sun_loc['altitude']['degrees'])\n",
    "    sun_azi=float(sun_loc['azimuth']['degrees'])\n",
    "\n",
    "    return sun_alt, sun_azi\n"
   ]
  },
  {
   "cell_type": "code",
   "execution_count": 156,
   "metadata": {},
   "outputs": [
    {
     "name": "stdout",
     "output_type": "stream",
     "text": [
      "151372054.24306 -26.71644\n"
     ]
    }
   ],
   "source": [
    "#today = datetime.datetime.now()\n",
    "#now_date = str(today).split()[0]\n",
    "#now_time = str(today).split()[1][0:8]\n",
    "\n",
    "#print( sun_loc)\n",
    "#data_sun['data']['table']['rows'][0]['cells'][0]\n",
    "#print(sun_alt,sun_azi)\n",
    "distance = data_sun['data']['table']['rows'][0]['cells'][0]['distance']['fromEarth']['km']\n",
    "magnitude = data_sun['data']['table']['rows'][0]['cells'][0]['extraInfo']['magnitude']\n",
    "#data_sun\n",
    "print (distance, magnitude)\n",
    "\n",
    "\n",
    "#grid= [[False,True,True],[False,True,False],[False,True,False]]\n",
    "#gridcount = sum([x.count(True) for x in grid])\n",
    "#print(gridcount)"
   ]
  },
  {
   "cell_type": "code",
   "execution_count": 145,
   "metadata": {},
   "outputs": [],
   "source": [
    "def print_position(azimuth, altitude):\n",
    "    \"\"\"Prints the position of the sun in the sky using the supplied coordinates\n",
    "    Parameters:\n",
    "    azimuth (float)\n",
    "    altitude (float)\"\"\"\n",
    "    body=\"Sun\"\n",
    "    print(f\"The {body} is currently at: azimuth of ** {azimuth}  and altitude of ** {altitude}\")"
   ]
  },
  {
   "cell_type": "code",
   "execution_count": null,
   "metadata": {},
   "outputs": [],
   "source": [
    "    \n",
    "if __name__ == \"__main__\":\n",
    "    latitude, longitude = get_observer_location()\n",
    "    azimuth, altitude = get_sun_position(latitude, longitude)\n",
    "    print_position(azimuth, altitude)"
   ]
  }
 ],
 "metadata": {
  "kernelspec": {
   "display_name": "Python 3",
   "language": "python",
   "name": "python3"
  },
  "language_info": {
   "codemirror_mode": {
    "name": "ipython",
    "version": 3
   },
   "file_extension": ".py",
   "mimetype": "text/x-python",
   "name": "python",
   "nbconvert_exporter": "python",
   "pygments_lexer": "ipython3",
   "version": "3.7.10"
  }
 },
 "nbformat": 4,
 "nbformat_minor": 2
}
