{
 "cells": [
  {
   "cell_type": "code",
   "execution_count": 4,
   "metadata": {},
   "outputs": [],
   "source": [
    "import requests\n",
    "import datetime\n",
    "import  json\n",
    "from requests.auth import HTTPBasicAuth\n",
    "from datetime import timedelta\n",
    "import sys\n",
    "#import argparse\n",
    "\n",
    "def get_observer_location():\n",
    "#    \"\"\"Returns the longitude and latitude for the location of this machine.\n",
    "#    Returns:\n",
    "#    str: latitude\n",
    "#    str: longitude\"\"\"\n",
    "\n",
    "    url='http://ip-api.com/json/?fields=61439'\n",
    "\n",
    "    output= requests.get(url) \n",
    "\n",
    "    #if output.status_code== 200:\n",
    "    #    dict_obj = output.content\n",
    "\n",
    "    data=output.json()\n",
    "    outdata= data['lat'], data['lon'],data['query']\n",
    "\n",
    "\n",
    "    # NOTE: Replace with your real return values!\n",
    "    return outdata[0], outdata[1]\n",
    "\n"
   ]
  },
  {
   "cell_type": "code",
   "execution_count": 3,
   "metadata": {},
   "outputs": [
    {
     "data": {
      "text/plain": [
       "{'status': 'success',\n",
       " 'country': 'United States',\n",
       " 'countryCode': 'US',\n",
       " 'region': 'VA',\n",
       " 'regionName': 'Virginia',\n",
       " 'city': 'Ashburn',\n",
       " 'zip': '20149',\n",
       " 'lat': 39.0438,\n",
       " 'lon': -77.4874,\n",
       " 'timezone': 'America/New_York',\n",
       " 'isp': 'Amazon.com, Inc.',\n",
       " 'org': 'AWS EC2 (us-east-1)',\n",
       " 'as': 'AS14618 Amazon.com, Inc.',\n",
       " 'query': '34.203.89.92'}"
      ]
     },
     "execution_count": 3,
     "metadata": {},
     "output_type": "execute_result"
    }
   ],
   "source": [
    "data"
   ]
  },
  {
   "cell_type": "code",
   "execution_count": null,
   "metadata": {},
   "outputs": [],
   "source": []
  },
  {
   "cell_type": "code",
   "execution_count": 5,
   "metadata": {},
   "outputs": [],
   "source": [
    "\n",
    "def get_sun_position(latitude, longitude):\n",
    "    \"\"\"Returns the current position of the sun in the sky at the specified location\n",
    "Parameters:\n",
    "latitude (str)\n",
    "longitude (str)\n",
    "Returns:\n",
    "float: azimuth\n",
    "float: altitude\n",
    "\n",
    "\"\"\"\n",
    "\n",
    "    login= {\"applicationId\":\"ea70a803-e1e3-4cf5-b842-072b95ac54c9\", \n",
    "            \"applicationSecret\":\"bf0a1c85026c6e0746ed234b24294b31918ad27785784c726247fd0828484b83a7aa\"\\\n",
    "                     \"a320ebae1a8f2a61b8891309575d3de09acbe391ddce4db54e453ceeb368cf4be7504c201d80b1\"\\\n",
    "                     \"ef95a2c7be700791ee87130ba39a482529139160871f7297ae39b7f306fcd01033debf78d9dbf2\"}\n",
    "    today = datetime.datetime.now()\n",
    "    now_date = str(today).split()[0]\n",
    "\n",
    "    #yesterday = today - timedelta(days = 1)\n",
    "    #yes_date=(str(yesterday).split())[0]\n",
    "    yesterday = today - timedelta(hours = 1)\n",
    "    yes_date=(str(yesterday).split())[0]\n",
    "    yes_time = str(yesterday).split()[1][0:8]\n",
    "    body=\"saturn\"\n",
    "\n",
    "    #url =\"https://api.astronomyapi.com/api/v2/bodies\"\n",
    "    url = \"https://api.astronomyapi.com/api/v2/bodies/positions/\"+body\n",
    "\n",
    "    querystring = {\"latitude\":latitude,\"longitude\":longitude,\"from_date\":yes_date,\"to_date\":now_date,\"elevation\":\"50\",\"time\":yes_time}\n",
    "\n",
    "    response = requests.request(\"GET\", url,  params=querystring,  auth=HTTPBasicAuth(login['applicationId'],login['applicationSecret']))\n",
    "\n",
    "    data_sun= json.loads(response.content)\n",
    "\n",
    "    sun_loc= data_sun['data']['table']['rows'][0]['cells'][0]['position']['horizonal']\n",
    "\n",
    "    sun_alt=float(sun_loc['altitude']['degrees'])\n",
    "    sun_azi=float(sun_loc['azimuth']['degrees'])\n",
    "    distance = data_sun['data']['table']['rows'][0]['cells'][0]['distance']['fromEarth']['km']\n",
    "    magnitude = data_sun['data']['table']['rows'][0]['cells'][0]['extraInfo']['magnitude']\n",
    "    #data_sun\n",
    "    print (f\"Distance from earth to {body} is {distance} Km and Magnitude is {magnitude}\")\n",
    "\n",
    "    return sun_alt, sun_azi, body"
   ]
  },
  {
   "cell_type": "code",
   "execution_count": 6,
   "metadata": {},
   "outputs": [],
   "source": [
    "def print_position(azimuth, altitude,body):\n",
    "    \"\"\"Prints the position of the sun in the sky using the supplied coordinates\n",
    "    Parameters:\n",
    "    azimuth (float)\n",
    "    altitude (float)\"\"\"\n",
    "    #body=\"Sun\"\n",
    "    print(f\"The {body} is currently at: azimuth of ** {azimuth}  and altitude of ** {altitude}\")\n"
   ]
  },
  {
   "cell_type": "code",
   "execution_count": 10,
   "metadata": {},
   "outputs": [
    {
     "name": "stdout",
     "output_type": "stream",
     "text": [
      "Distance from earth to saturn is 1442723299.69401 Km and Magnitude is 0.64656\n",
      "The saturn is currently at: azimuth of ** 14.6  and altitude of ** 237.6\n",
      "My local machine is  at 39.0438 -77.4874\n"
     ]
    }
   ],
   "source": [
    "#if __name__ == \"__main__\":\n",
    "#n = len(sys.argv)\n",
    "\n",
    "#if sys.argv[1] !=None :\n",
    "#    body=sys.argv[1]\n",
    "\n",
    "#newloc = (sys.argv[2],sys.argv[3])\n",
    "#print(newloc)\n",
    "newloc=\"\"\n",
    "\n",
    "if newloc == \"\":\n",
    "    latitude, longitude = get_observer_location()\n",
    "    azimuth, altitude, body= get_sun_position(latitude, longitude)\n",
    "else:\n",
    "    azimuth, altitude, body= get_sun_position(newloc)\n",
    "print_position(azimuth, altitude,body)\n",
    "print (\"My local machine is  at\", latitude, longitude, )"
   ]
  },
  {
   "cell_type": "code",
   "execution_count": null,
   "metadata": {},
   "outputs": [],
   "source": []
  }
 ],
 "metadata": {
  "kernelspec": {
   "display_name": "Python 3",
   "language": "python",
   "name": "python3"
  },
  "language_info": {
   "codemirror_mode": {
    "name": "ipython",
    "version": 3
   },
   "file_extension": ".py",
   "mimetype": "text/x-python",
   "name": "python",
   "nbconvert_exporter": "python",
   "pygments_lexer": "ipython3",
   "version": "3.7.10"
  }
 },
 "nbformat": 4,
 "nbformat_minor": 2
}
