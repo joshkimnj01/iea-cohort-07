{
 "cells": [
  {
   "cell_type": "markdown",
   "metadata": {},
   "source": [
    "\n",
    "MASTERING GIT DAVE WADE-STEINDWS@DEVELOPINTELLIGENCE.COM\n",
    "LOGISTICS/ABOUT YOU (...AND ME)\n",
    "\n",
    "\n"
   ]
  },
  {
   "cell_type": "markdown",
   "metadata": {},
   "source": [
    "➤Class time: 9:30-4:30Lunch 11:45-12:455-10 min. break per hour \n",
    "➤What is your job/what do you do here? \n",
    "➤What do you want to get out of the course?\n"
   ]
  },
  {
   "cell_type": "code",
   "execution_count": null,
   "metadata": {},
   "outputs": [],
   "source": [
    "RESOURCES\n",
    "➤\n",
    "Cheat sheets\n",
    "https://services.github.com/on-demand/downloads/github-\n",
    "git-cheat-sheet.pdf\n",
    "https://www.git-tower.com/blog/git-cheat-sheet/\n",
    "➤ The Git Parable: http://tom.preston-werner.com/2009/05/19/\n",
    "the-git-parable.html\n",
    "➤ Pro Git, 2nd Edition https://git-scm.com/book/en/v2\n",
    "➤ Git documentation https://git-scm.com/documentation\n",
    "➤ Visualizing Git http://pcottle.github.io/learnGitBranching"
   ]
  },
  {
   "cell_type": "code",
   "execution_count": null,
   "metadata": {},
   "outputs": [],
   "source": [
    "\n",
    "\n",
    "GOALS FOR THIS CLASS➤Understand how Git works under the hood so that we can better understand the commands we're using ➤Learn some new ways to use the commands we are already familiar with ➤Learn some new Git commands\n",
    "RESOURCES➤Cheat sheets https://services.github.com/on-demand/downloads/github-git-cheat-sheet.pdfhttps://www.git-tower.com/blog/git-cheat-sheet/➤The Git Parable: http://tom.preston-werner.com/2009/05/19/the-git-parable.html➤Pro Git, 2nd Edition https://git-scm.com/book/en/v2➤Git documentation https://git-scm.com/documentation➤Visualizing Git http://pcottle.github.io/learnGitBranching\n",
    "OLD WORLD: VERSION CONTROL W/CENTRAL SERVER➤single central server manages all operations ➤e.g., Subversion (svn), Perforce, CVS ➤advantages ➤everyone knows what everyone is doing* ➤fine-grained control ➤disadvantages ➤history not available locally ➤single point of failure ➤branching/merging difficult ✴...for the most part\n",
    "NEW WORLD: DISTRIBUTED VERSION CONTROL➤All clients fully mirror the repository, including entire history ➤ e.g., Git, Mercurial, Bazaar ➤All clients act as backups ➤...no single point of failure! ➤Collaboration easy ➤supports many workflows\n",
    "GIT HISTORY/GOALS➤Linux (1991–) ➤No real version control from 1991-2002 ➤bitkeeper (2002-2005) ➤git created in 2005 after relationship w/bitkeeper broke down ➤Goals ➤speed! ➤simplicity ➤strong support for non-linear development ➤fully distributed ➤able to handle large projects, e.g., Linux kernel efficiently (in terms of both speed and size)\n",
    "GIT BASICS\n",
    "GIT BASICS➤Under the hood Git is simply a key/value store ➤You insert any content into Git, and Git  will give you back a key that you can use to retrieve the content at any time ➤Git stores snapshots of each file, not diffs between files ➤Almost every operation is carried out on your local repo ➤Branching is super easy and encouraged as part of your daily workflow\n",
    "SNAPSHOTS VS. DIFFS➤Git stores data as snapshots of your repository files in each commit, as opposed to a delta, or difference ➤In this sense, Git is more like a mini-filesystem with powerful tools to access it, rather than just a version control system \n"
   ]
  },
  {
   "cell_type": "code",
   "execution_count": null,
   "metadata": {},
   "outputs": [],
   "source": []
  }
 ],
 "metadata": {
  "kernelspec": {
   "display_name": "Python 3",
   "language": "python",
   "name": "python3"
  },
  "language_info": {
   "codemirror_mode": {
    "name": "ipython",
    "version": 3
   },
   "file_extension": ".py",
   "mimetype": "text/x-python",
   "name": "python",
   "nbconvert_exporter": "python",
   "pygments_lexer": "ipython3",
   "version": "3.7.10"
  }
 },
 "nbformat": 4,
 "nbformat_minor": 2
}
